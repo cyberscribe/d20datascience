{
 "cells": [
  {
   "cell_type": "code",
   "execution_count": 6,
   "metadata": {},
   "outputs": [],
   "source": [
    "import sys\n",
    "#!{sys.executable} -m pip install pandas\n",
    "#!{sys.executable} -m pip install seaborn\n",
    "import numpy as np\n",
    "import pandas\n",
    "import seaborn as sns\n",
    "import warnings\n",
    "from ipywidgets import FloatProgress\n",
    "from IPython.display import display, Markdown, Latex"
   ]
  },
  {
   "cell_type": "code",
   "execution_count": 7,
   "metadata": {},
   "outputs": [],
   "source": [
    "debug_rounds = False\n",
    "debug_matches = False"
   ]
  },
  {
   "cell_type": "code",
   "execution_count": 36,
   "metadata": {},
   "outputs": [],
   "source": [
    "def d20():\n",
    "    return np.random.randint(1,21)\n",
    "\n",
    "def do_match_and_update(a,b,rounds,df):\n",
    "    wins = do_match(a,b,rounds)\n",
    "    a_wins = wins[0]\n",
    "    b_wins = wins[1]\n",
    "    a_id = a[0]\n",
    "    b_id = b[0]\n",
    "    df.at[a_id,'round_wins'] = df.at[a_id,'round_wins'] + a_wins\n",
    "    df.at[b_id,'round_wins'] = df.at[b_id,'round_wins'] + b_wins\n",
    "    if a_wins > b_wins:\n",
    "        df.at[a_id,'match_wins'] = df.at[a_id,'match_wins'] + 1\n",
    "    else:\n",
    "        df.at[b_id,'match_wins'] = df.at[b_id,'match_wins'] + 1\n",
    "    return df\n",
    "\n",
    "def calc_match_and_update(a,b,df):\n",
    "    wins = calc_match(a,b)\n",
    "    a_wins = wins[0]\n",
    "    b_wins = wins[1]\n",
    "    a_id = a[0]\n",
    "    b_id = b[0]\n",
    "    if a_wins > b_wins:\n",
    "        df.at[a_id,'calc_wins'] = df.at[a_id,'calc_wins'] + 1\n",
    "    else:\n",
    "        df.at[b_id,'calc_wins'] = df.at[b_id,'calc_wins'] + 1\n",
    "    return df\n",
    "\n",
    "def do_match(a,b,rounds):\n",
    "    a_wins = 0\n",
    "    b_wins = 0\n",
    "    for _ in np.arange(rounds):\n",
    "        wins = do_round(a,b)\n",
    "        a_wins = a_wins + wins[0]\n",
    "        b_wins = b_wins + wins[1]\n",
    "    if debug_matches:\n",
    "        print (\"After %d rounds %s won %d times and %s won %d times\" % (rounds,a.name,a_wins,b.name,b_wins))\n",
    "    return [a_wins,b_wins]\n",
    "\n",
    "def calc_match(a,b):\n",
    "    a_prob_hit_turn = (20 - b.ac) * 0.05\n",
    "    if (a_prob_hit_turn > .95):\n",
    "        a_prob_hit_turn = .95\n",
    "    if (a_prob_hit_turn < 0.05):\n",
    "        a_prob_hit_turn = 0.05\n",
    "    a_avg_dam_max = a.dam_avg * a.att_num\n",
    "    a_avg_dam_per_turn = a_prob_hit_turn * a_avg_dam_max\n",
    "    a_turns_towin = np.ceil(b.hp / a_avg_dam_per_turn)\n",
    "    b_prob_hit_turn = (20 - a.ac) * 0.05\n",
    "    if (b_prob_hit_turn > .95):\n",
    "        b_prob_hit_turn = .95\n",
    "    if (b_prob_hit_turn < 0.05):\n",
    "        b_prob_hit_turn = 0.05\n",
    "    b_avg_dam_max = b.dam_avg * b.att_num\n",
    "    b_avg_dam_per_turn = b_prob_hit_turn * b.dam_avg\n",
    "    b_turns_towin = np.ceil(a.hp / b_avg_dam_per_turn)\n",
    "    if a_turns_towin == b_turns_towin:\n",
    "        if a.init >= b.init:\n",
    "            return [1,0]\n",
    "        else:\n",
    "            return [0,1]\n",
    "    else:\n",
    "        if a_turns_towin < b_turns_towin:\n",
    "            return [1,0]\n",
    "        else:\n",
    "            return [0,1]\n",
    "    \"\"\"Something went wrong here, nobody wins\"\"\"\n",
    "    return [0,0]\n",
    "\n",
    "def do_round( a, b ):\n",
    "    a_init = d20() + a.init\n",
    "    if debug_rounds:\n",
    "        print(\"%s rolled %d init\" % (a.name,a_init))\n",
    "    b_init = d20() + b.init\n",
    "    if debug_rounds:\n",
    "        print(\"%s rolled %d init\" % (b.name,b_init))\n",
    "    if (a_init >= b_init):\n",
    "        first = a.copy()\n",
    "        second = b.copy()\n",
    "        in_order = True\n",
    "    else:\n",
    "        first = b.copy()\n",
    "        second = a.copy()\n",
    "        in_order = False\n",
    "    round = 0\n",
    "    while (first.hp > 0 and second.hp > 0):\n",
    "        if debug_rounds:\n",
    "            print(\"    Round %d: %s hp is %d and %s hp is %d\" % (round+1, first.name,first.hp,second.name,second.hp))\n",
    "        round = round + 1\n",
    "        first,second = do_attack(first,second)\n",
    "        if (second.hp <= 0):\n",
    "            if debug_rounds:\n",
    "                print(\"%s is dead\" % second.name)\n",
    "            if in_order:\n",
    "                return [1,0] #a went first and won\n",
    "            else:\n",
    "                return [0,1] #b went first and won\n",
    "        else:\n",
    "            second,first = do_attack(second,first)\n",
    "            if (first.hp <= 0):\n",
    "                if debug_rounds:\n",
    "                    print(\"%s is dead\" % first.name)\n",
    "                if in_order:\n",
    "                    return [0,1] #b went second and won\n",
    "                else:\n",
    "                    return [1,0] #a went second and won\n",
    "    \"\"\"Something went wrong here, nobody wins\"\"\"\n",
    "    return [0,0]\n",
    "    \n",
    "def do_attack( attacker, target ):\n",
    "    if debug_rounds:\n",
    "        print (\"        %s makes %d attacks against %s\" % (attacker.name, attacker.att_num, target.name))\n",
    "    for _ in np.arange(attacker.att_num):\n",
    "        attack = d20() + attacker.hit_mod\n",
    "        if (attack != 1 and (attack == 20 or attack >= target.ac)):\n",
    "            target.hp = target.hp - attacker.dam_avg\n",
    "            if debug_rounds:\n",
    "                print(\"            %s hits %s for %d damage\" % (attacker.name, target.name, attacker.dam_avg ))\n",
    "        else:\n",
    "            if debug_rounds:\n",
    "                print(\"            %s misses %s\" % (attacker.name, target.name))\n",
    "    return [attacker, target]\n",
    "\n",
    "def run_matches(creatures,rounds,name=\"creatures\"):\n",
    "    rows = creatures.shape[0]\n",
    "    creatures['match_wins'] = np.zeros(rows)\n",
    "    creatures['round_wins'] = np.zeros(rows)\n",
    "    creatures['calc_wins'] = np.zeros(rows)\n",
    "\n",
    "    matches = ((rows-1)**2 + rows - 1)/2 #nth triangular number for n-1\n",
    "\n",
    "    f = FloatProgress(min=0, max=matches, description=\"Contest: \")\n",
    "    display(f)\n",
    "\n",
    "    print(\"Performing %d matches of %d rounds each\" % (matches,rounds))\n",
    "    for i in np.arange(rows):\n",
    "        a = creatures.take([i]).to_records()[0]\n",
    "        for j in np.arange(i+1,rows):\n",
    "            b = creatures.take([j]).to_records()[0]\n",
    "            creatures = do_match_and_update(a,b,rounds,creatures)\n",
    "            creatures = calc_match_and_update(a,b,creatures)\n",
    "            f.value = f.value + 1\n",
    "    \n",
    "    filename = \"%s_%02d.csv\" % (name,rounds)\n",
    "    creatures.to_csv(filename)\n",
    "\n",
    "def creature_from_party(df):\n",
    "    \"\"\"name,cr,ac,hp,init,att_num,hit_mod,dam_avg\"\"\"\n",
    "    rows = df.shape[0]\n",
    "    df2 = pandas.DataFrame()\n",
    "    df2['name'] =  [ \"Party of %d\" % rows ]\n",
    "    df2['cr'] = [ np.floor(df['cr'].sum()) ]\n",
    "    df2['ac'] = [ np.floor(df['ac'].mean()) ]\n",
    "    df2['hp'] = [ np.floor(df['hp'].sum()) ]\n",
    "    df2['init'] = [ round(df['init'].mean(),2) ]\n",
    "    df2['att_num'] = [ np.floor(df['att_num'].sum()) ]\n",
    "    df2['hit_mod'] = [ np.floor(df['hit_mod'].mean()) ]\n",
    "    df2['dam_avg'] = [ np.floor(df['dam_avg'].mean()) ]\n",
    "    return df2\n",
    "    \n",
    "def gen_init(amount):\n",
    "    \"\"\"Generate initiative modifiers in range -5,5 with normal distribution\"\"\"\n",
    "    s = np.round(np.random.normal(0, 1.66, amount),2)\n",
    "    p = pandas.DataFrame(data=s)\n",
    "    p = p[p[0].between(-5, 5, inclusive=True)]\n",
    "    return p\n",
    "\n",
    "def gen_ac(amount):\n",
    "    return np.random.randint(13,20,amount)\n",
    "\n",
    "def gen_hp(amount):\n",
    "    return np.random.randint(10,810,amount)\n",
    "\n",
    "def gen_att_num(amount):\n",
    "    return np.random.randint(1,6,amount)\n",
    "\n",
    "def gen_hit_mod(amount):\n",
    "    return np.random.randint(3,15,amount)\n",
    "\n",
    "def gen_dam_avg(amount):\n",
    "    return np.random.randint(2,62,amount)\n",
    "\n",
    "def create_randoms(size):\n",
    "    \"\"\"name,cr,ac,hp,init,att_num,hit_mod,dam_avg\"\"\"\n",
    "    randoms = pandas.DataFrame()\n",
    "    randoms['name'] = np.repeat([''],size)\n",
    "    randoms['cr'] = np.zeros(size)\n",
    "    randoms['ac'] = gen_ac(size)\n",
    "    randoms['hp'] = gen_hp(size)\n",
    "    randoms['init'] = gen_init(size)\n",
    "    randoms['att_num'] = gen_att_num(size)\n",
    "    randoms['hit_mod'] = gen_hit_mod(size)\n",
    "    randoms['dam_avg'] = gen_dam_avg(size)\n",
    "    return randoms\n",
    "\n",
    "def plot_correl(file,col,logx=False,order=1,subtitle=''):\n",
    "    df = pandas.read_csv(file)\n",
    "    return plot_correl_df(df,col,logx=logx,order=order,subtitle=subtitle)\n",
    "\n",
    "def plot_correl_df(df,col,logx=False,order=1,subtitle=''):\n",
    "    rows = df.shape[0]\n",
    "    df['percent_wins'] = df['match_wins'] / (rows-1)\n",
    "    max_col = df.loc[df[col].idxmax()][col]\n",
    "    df['percent_' + col] = df[col] / max_col\n",
    "    df = df.sort_values(['percent_wins'],ascending=False)\n",
    "    warnings.filterwarnings('ignore')\n",
    "    r = np.corrcoef(df['percent_'+col],df['percent_wins'])[0][1]\n",
    "    if len(subtitle) > 0:\n",
    "        display(Markdown('### Correlation between %s and wins: %s' % (col,subtitle)))\n",
    "    else:\n",
    "        display(Markdown('### Correlation between %s and wins' % col))\n",
    "    if 'type' in df.columns:\n",
    "        plt = sns.lmplot( x='percent_'+col, y='percent_wins', data=df, fit_reg=False, hue='type', legend=True)\n",
    "    else:\n",
    "        if np.absolute(r) < 0.3:\n",
    "            df.plot.scatter('percent_' + col,'percent_wins')\n",
    "        else:\n",
    "            sns.regplot(df['percent_'+col],df['percent_wins'],logx=logx,order=order)\n",
    "    display(Markdown(\"r=%2f\" % r))"
   ]
  },
  {
   "cell_type": "code",
   "execution_count": 4,
   "metadata": {},
   "outputs": [
    {
     "data": {
      "application/vnd.jupyter.widget-view+json": {
       "model_id": "130dbe57fc5747589729e3144a6ad94a",
       "version_major": 2,
       "version_minor": 0
      },
      "text/plain": [
       "FloatProgress(value=0.0, description='Contest: ', max=52650.0)"
      ]
     },
     "metadata": {},
     "output_type": "display_data"
    },
    {
     "name": "stdout",
     "output_type": "stream",
     "text": [
      "Performing 52650 matches of 100 rounds each\n"
     ]
    }
   ],
   "source": [
    "creatures = pandas.read_csv('creatures.csv')\n",
    "run_matches(creatures,100)"
   ]
  },
  {
   "cell_type": "code",
   "execution_count": 5,
   "metadata": {
    "scrolled": true
   },
   "outputs": [
    {
     "data": {
      "text/markdown": [
       "### Correlation between hp and wins: creatures from SRD"
      ],
      "text/plain": [
       "<IPython.core.display.Markdown object>"
      ]
     },
     "metadata": {},
     "output_type": "display_data"
    },
    {
     "data": {
      "text/markdown": [
       "r=0.742634"
      ],
      "text/plain": [
       "<IPython.core.display.Markdown object>"
      ]
     },
     "metadata": {},
     "output_type": "display_data"
    },
    {
     "data": {
      "image/png": "[encoded data removed]",
      "text/plain": [
       "<Figure size 432x288 with 1 Axes>"
      ]
     },
     "metadata": {},
     "output_type": "display_data"
    }
   ],
   "source": [
    "plot_correl('creatures_100.csv','hp',logx=True,subtitle='creatures from SRD')"
   ]
  },
  {
   "cell_type": "code",
   "execution_count": 6,
   "metadata": {},
   "outputs": [
    {
     "data": {
      "text/markdown": [
       "### Correlation between cr and wins: creatures from SRD"
      ],
      "text/plain": [
       "<IPython.core.display.Markdown object>"
      ]
     },
     "metadata": {},
     "output_type": "display_data"
    },
    {
     "data": {
      "text/markdown": [
       "r=0.750009"
      ],
      "text/plain": [
       "<IPython.core.display.Markdown object>"
      ]
     },
     "metadata": {},
     "output_type": "display_data"
    },
    {
     "data": {
      "image/png": "[encoded data removed]",
      "text/plain": [
       "<Figure size 432x288 with 1 Axes>"
      ]
     },
     "metadata": {},
     "output_type": "display_data"
    }
   ],
   "source": [
    "plot_correl('creatures_100.csv','cr',logx=True,subtitle='creatures from SRD')"
   ]
  },
  {
   "cell_type": "code",
   "execution_count": 30,
   "metadata": {},
   "outputs": [
    {
     "data": {
      "application/vnd.jupyter.widget-view+json": {
       "model_id": "4c31161ece02456db6a8820c158d048b",
       "version_major": 2,
       "version_minor": 0
      },
      "text/plain": [
       "FloatProgress(value=0.0, description='Contest: ', max=378.0)"
      ]
     },
     "metadata": {},
     "output_type": "display_data"
    },
    {
     "name": "stdout",
     "output_type": "stream",
     "text": [
      "Performing 378 matches of 100 rounds each\n"
     ]
    }
   ],
   "source": [
    "creatures = pandas.read_csv('creatures.csv')\n",
    "creatures_avg = creatures.groupby('cr').mean().apply(np.round).astype(int).reset_index()\n",
    "creatures_avg['name'] = creatures_avg['cr']\n",
    "run_matches(creatures_avg,100,'creatures_avg')"
   ]
  },
  {
   "cell_type": "code",
   "execution_count": 32,
   "metadata": {},
   "outputs": [
    {
     "data": {
      "text/markdown": [
       "### Correlation between hp and wins: averaged creatures from SRD"
      ],
      "text/plain": [
       "<IPython.core.display.Markdown object>"
      ]
     },
     "metadata": {},
     "output_type": "display_data"
    },
    {
     "data": {
      "text/markdown": [
       "r=0.856689"
      ],
      "text/plain": [
       "<IPython.core.display.Markdown object>"
      ]
     },
     "metadata": {},
     "output_type": "display_data"
    },
    {
     "data": {
      "image/png": "[encoded data removed]",
      "text/plain": [
       "<Figure size 432x288 with 1 Axes>"
      ]
     },
     "metadata": {},
     "output_type": "display_data"
    }
   ],
   "source": [
    "plot_correl('creatures_avg_100.csv','hp',logx=True,subtitle='averaged creatures from SRD')"
   ]
  },
  {
   "cell_type": "code",
   "execution_count": 9,
   "metadata": {},
   "outputs": [
    {
     "data": {
      "text/markdown": [
       "### Correlation between cr and wins: averaged creatures from SRD"
      ],
      "text/plain": [
       "<IPython.core.display.Markdown object>"
      ]
     },
     "metadata": {},
     "output_type": "display_data"
    },
    {
     "data": {
      "text/markdown": [
       "r=0.896555"
      ],
      "text/plain": [
       "<IPython.core.display.Markdown object>"
      ]
     },
     "metadata": {},
     "output_type": "display_data"
    },
    {
     "data": {
      "image/png": "[encoded data removed]",
      "text/plain": [
       "<Figure size 432x288 with 1 Axes>"
      ]
     },
     "metadata": {},
     "output_type": "display_data"
    }
   ],
   "source": [
    "plot_correl('creatures_avg_100.csv','cr',subtitle='averaged creatures from SRD')"
   ]
  },
  {
   "cell_type": "code",
   "execution_count": 49,
   "metadata": {},
   "outputs": [
    {
     "data": {
      "application/vnd.jupyter.widget-view+json": {
       "model_id": "894c6864eddd46c390f528acd5829f23",
       "version_major": 2,
       "version_minor": 0
      },
      "text/plain": [
       "FloatProgress(value=0.0, description='Contest: ', max=528.0)"
      ]
     },
     "metadata": {},
     "output_type": "display_data"
    },
    {
     "name": "stdout",
     "output_type": "stream",
     "text": [
      "Performing 528 matches of 100 rounds each\n"
     ]
    }
   ],
   "source": [
    "generics = pandas.read_csv('generics.csv')\n",
    "run_matches(generics,100,'generics')"
   ]
  },
  {
   "cell_type": "code",
   "execution_count": 50,
   "metadata": {},
   "outputs": [
    {
     "data": {
      "text/markdown": [
       "### Correlation between hp and wins: generic creatures for each cr"
      ],
      "text/plain": [
       "<IPython.core.display.Markdown object>"
      ]
     },
     "metadata": {},
     "output_type": "display_data"
    },
    {
     "data": {
      "text/markdown": [
       "r=0.966049"
      ],
      "text/plain": [
       "<IPython.core.display.Markdown object>"
      ]
     },
     "metadata": {},
     "output_type": "display_data"
    },
    {
     "data": {
      "image/png": "[encoded data removed]",
      "text/plain": [
       "<Figure size 432x288 with 1 Axes>"
      ]
     },
     "metadata": {},
     "output_type": "display_data"
    }
   ],
   "source": [
    "plot_correl('generics_100.csv','hp',order=2,subtitle='generic creatures for each cr')"
   ]
  },
  {
   "cell_type": "code",
   "execution_count": 52,
   "metadata": {},
   "outputs": [
    {
     "data": {
      "text/markdown": [
       "### Correlation between cr and wins: generic creatures for each cr"
      ],
      "text/plain": [
       "<IPython.core.display.Markdown object>"
      ]
     },
     "metadata": {},
     "output_type": "display_data"
    },
    {
     "data": {
      "text/markdown": [
       "r=0.999187"
      ],
      "text/plain": [
       "<IPython.core.display.Markdown object>"
      ]
     },
     "metadata": {},
     "output_type": "display_data"
    },
    {
     "data": {
      "image/png": "[encoded data removed]",
      "text/plain": [
       "<Figure size 432x288 with 1 Axes>"
      ]
     },
     "metadata": {},
     "output_type": "display_data"
    }
   ],
   "source": [
    "plot_correl('generics_100.csv','cr',subtitle='generic creatures for each cr')"
   ]
  },
  {
   "cell_type": "code",
   "execution_count": 13,
   "metadata": {},
   "outputs": [
    {
     "data": {
      "application/vnd.jupyter.widget-view+json": {
       "model_id": "1e9e4aa1ca9a4d94be20a55ec849d60e",
       "version_major": 2,
       "version_minor": 0
      },
      "text/plain": [
       "FloatProgress(value=0.0, description='Contest: ', max=528.0)"
      ]
     },
     "metadata": {},
     "output_type": "display_data"
    },
    {
     "name": "stdout",
     "output_type": "stream",
     "text": [
      "Performing 528 matches of 100 rounds each\n"
     ]
    }
   ],
   "source": [
    "randoms = create_randoms(33)\n",
    "run_matches(randoms,100,'randoms')"
   ]
  },
  {
   "cell_type": "code",
   "execution_count": 14,
   "metadata": {},
   "outputs": [
    {
     "data": {
      "text/markdown": [
       "### Correlation between hp and wins: randomly-generated creatures"
      ],
      "text/plain": [
       "<IPython.core.display.Markdown object>"
      ]
     },
     "metadata": {},
     "output_type": "display_data"
    },
    {
     "data": {
      "text/markdown": [
       "r=0.710729"
      ],
      "text/plain": [
       "<IPython.core.display.Markdown object>"
      ]
     },
     "metadata": {},
     "output_type": "display_data"
    },
    {
     "data": {
      "image/png": "[encoded data removed]",
      "text/plain": [
       "<Figure size 432x288 with 1 Axes>"
      ]
     },
     "metadata": {},
     "output_type": "display_data"
    }
   ],
   "source": [
    "plot_correl('randoms_100.csv','hp',subtitle='randomly-generated creatures')"
   ]
  },
  {
   "cell_type": "code",
   "execution_count": 15,
   "metadata": {},
   "outputs": [
    {
     "data": {
      "text/markdown": [
       "### Correlation between ac and wins: randomly-generated creatures"
      ],
      "text/plain": [
       "<IPython.core.display.Markdown object>"
      ]
     },
     "metadata": {},
     "output_type": "display_data"
    },
    {
     "data": {
      "text/markdown": [
       "r=-0.164126"
      ],
      "text/plain": [
       "<IPython.core.display.Markdown object>"
      ]
     },
     "metadata": {},
     "output_type": "display_data"
    },
    {
     "data": {
      "image/png": "[encoded data removed]",
      "text/plain": [
       "<Figure size 432x288 with 1 Axes>"
      ]
     },
     "metadata": {},
     "output_type": "display_data"
    }
   ],
   "source": [
    "plot_correl('randoms_100.csv','ac',subtitle='randomly-generated creatures')"
   ]
  },
  {
   "cell_type": "code",
   "execution_count": 16,
   "metadata": {},
   "outputs": [
    {
     "data": {
      "text/markdown": [
       "### Correlation between init and wins: randomly-generated creatures"
      ],
      "text/plain": [
       "<IPython.core.display.Markdown object>"
      ]
     },
     "metadata": {},
     "output_type": "display_data"
    },
    {
     "data": {
      "text/markdown": [
       "r=-0.031805"
      ],
      "text/plain": [
       "<IPython.core.display.Markdown object>"
      ]
     },
     "metadata": {},
     "output_type": "display_data"
    },
    {
     "data": {
      "image/png": "[encoded data removed]",
      "text/plain": [
       "<Figure size 432x288 with 1 Axes>"
      ]
     },
     "metadata": {},
     "output_type": "display_data"
    }
   ],
   "source": [
    "plot_correl('randoms_100.csv','init',subtitle='randomly-generated creatures')"
   ]
  },
  {
   "cell_type": "code",
   "execution_count": 17,
   "metadata": {},
   "outputs": [
    {
     "data": {
      "text/markdown": [
       "### Correlation between hit_mod and wins: randomly-generated creatures"
      ],
      "text/plain": [
       "<IPython.core.display.Markdown object>"
      ]
     },
     "metadata": {},
     "output_type": "display_data"
    },
    {
     "data": {
      "text/markdown": [
       "r=0.522340"
      ],
      "text/plain": [
       "<IPython.core.display.Markdown object>"
      ]
     },
     "metadata": {},
     "output_type": "display_data"
    },
    {
     "data": {
      "image/png": "[encoded data removed]",
      "text/plain": [
       "<Figure size 432x288 with 1 Axes>"
      ]
     },
     "metadata": {},
     "output_type": "display_data"
    }
   ],
   "source": [
    "plot_correl('randoms_100.csv','hit_mod',subtitle='randomly-generated creatures')"
   ]
  },
  {
   "cell_type": "code",
   "execution_count": 18,
   "metadata": {},
   "outputs": [
    {
     "data": {
      "text/markdown": [
       "### Correlation between dam_max and wins: randomly-generated creatures"
      ],
      "text/plain": [
       "<IPython.core.display.Markdown object>"
      ]
     },
     "metadata": {},
     "output_type": "display_data"
    },
    {
     "data": {
      "text/markdown": [
       "r=0.753277"
      ],
      "text/plain": [
       "<IPython.core.display.Markdown object>"
      ]
     },
     "metadata": {},
     "output_type": "display_data"
    },
    {
     "data": {
      "image/png": "[encoded data removed]",
      "text/plain": [
       "<Figure size 432x288 with 1 Axes>"
      ]
     },
     "metadata": {},
     "output_type": "display_data"
    }
   ],
   "source": [
    "randoms = pandas.read_csv('randoms_100.csv')\n",
    "randoms['dam_max'] = randoms['dam_avg'] * randoms['att_num']\n",
    "plot_correl_df(randoms,'dam_max',subtitle='randomly-generated creatures')"
   ]
  },
  {
   "cell_type": "code",
   "execution_count": 54,
   "metadata": {},
   "outputs": [
    {
     "data": {
      "application/vnd.jupyter.widget-view+json": {
       "model_id": "9b8169bc1df04e9e82de2829ae310452",
       "version_major": 2,
       "version_minor": 0
      },
      "text/plain": [
       "FloatProgress(value=0.0, description='Contest: ', max=190.0)"
      ]
     },
     "metadata": {},
     "output_type": "display_data"
    },
    {
     "name": "stdout",
     "output_type": "stream",
     "text": [
      "Performing 190 matches of 100 rounds each\n"
     ]
    }
   ],
   "source": [
    "fighters = pandas.read_csv('fighters.csv')\n",
    "run_matches(fighters,100,'fighters')"
   ]
  },
  {
   "cell_type": "code",
   "execution_count": 56,
   "metadata": {},
   "outputs": [
    {
     "data": {
      "text/markdown": [
       "### Correlation between hp and wins: generic human fighters"
      ],
      "text/plain": [
       "<IPython.core.display.Markdown object>"
      ]
     },
     "metadata": {},
     "output_type": "display_data"
    },
    {
     "data": {
      "text/markdown": [
       "r=0.999339"
      ],
      "text/plain": [
       "<IPython.core.display.Markdown object>"
      ]
     },
     "metadata": {},
     "output_type": "display_data"
    },
    {
     "data": {
      "image/png": "[encoded data removed]",
      "text/plain": [
       "<Figure size 432x288 with 1 Axes>"
      ]
     },
     "metadata": {},
     "output_type": "display_data"
    }
   ],
   "source": [
    "plot_correl('fighters_100.csv','hp',subtitle='generic human fighters')"
   ]
  },
  {
   "cell_type": "code",
   "execution_count": 57,
   "metadata": {},
   "outputs": [
    {
     "data": {
      "text/markdown": [
       "### Correlation between dam_max and wins: generic human fighters"
      ],
      "text/plain": [
       "<IPython.core.display.Markdown object>"
      ]
     },
     "metadata": {},
     "output_type": "display_data"
    },
    {
     "data": {
      "text/markdown": [
       "r=0.959051"
      ],
      "text/plain": [
       "<IPython.core.display.Markdown object>"
      ]
     },
     "metadata": {},
     "output_type": "display_data"
    },
    {
     "data": {
      "image/png": "[encoded data removed]",
      "text/plain": [
       "<Figure size 432x288 with 1 Axes>"
      ]
     },
     "metadata": {},
     "output_type": "display_data"
    }
   ],
   "source": [
    "fighters = pandas.read_csv('fighters_100.csv')\n",
    "fighters['dam_max'] = fighters['dam_avg'] * fighters['att_num']\n",
    "plot_correl_df(fighters,'dam_max',subtitle='generic human fighters')"
   ]
  },
  {
   "cell_type": "code",
   "execution_count": 58,
   "metadata": {},
   "outputs": [
    {
     "data": {
      "application/vnd.jupyter.widget-view+json": {
       "model_id": "5429baf01ae34db394b8c73c35f8fe9a",
       "version_major": 2,
       "version_minor": 0
      },
      "text/plain": [
       "FloatProgress(value=0.0, description='Contest: ', max=1378.0)"
      ]
     },
     "metadata": {},
     "output_type": "display_data"
    },
    {
     "name": "stdout",
     "output_type": "stream",
     "text": [
      "Performing 1378 matches of 100 rounds each\n"
     ]
    }
   ],
   "source": [
    "fighters = pandas.read_csv('fighters.csv')\n",
    "fighters['type'] = 'fighter'\n",
    "generics = pandas.read_csv('generics.csv')\n",
    "generics['type'] = 'monster'\n",
    "mixed = generics.append(fighters)\n",
    "mixed = mixed.reset_index(drop=True)\n",
    "run_matches(mixed,100,'mixed')"
   ]
  },
  {
   "cell_type": "code",
   "execution_count": 59,
   "metadata": {},
   "outputs": [
    {
     "data": {
      "text/markdown": [
       "### Correlation between hp and wins: generic human fighters and generic creatures"
      ],
      "text/plain": [
       "<IPython.core.display.Markdown object>"
      ]
     },
     "metadata": {},
     "output_type": "display_data"
    },
    {
     "data": {
      "text/markdown": [
       "r=0.904398"
      ],
      "text/plain": [
       "<IPython.core.display.Markdown object>"
      ]
     },
     "metadata": {},
     "output_type": "display_data"
    },
    {
     "data": {
      "image/png": "[encoded data removed]",
      "text/plain": [
       "<Figure size 437.375x360 with 1 Axes>"
      ]
     },
     "metadata": {},
     "output_type": "display_data"
    }
   ],
   "source": [
    "plot_correl('mixed_100.csv','hp',logx=True,subtitle='generic human fighters and generic creatures')"
   ]
  },
  {
   "cell_type": "code",
   "execution_count": 60,
   "metadata": {},
   "outputs": [
    {
     "data": {
      "text/markdown": [
       "### Correlation between dam_max and wins: generic human fighters and SRD creatures"
      ],
      "text/plain": [
       "<IPython.core.display.Markdown object>"
      ]
     },
     "metadata": {},
     "output_type": "display_data"
    },
    {
     "data": {
      "text/markdown": [
       "r=0.874650"
      ],
      "text/plain": [
       "<IPython.core.display.Markdown object>"
      ]
     },
     "metadata": {},
     "output_type": "display_data"
    },
    {
     "data": {
      "image/png": "[encoded data removed]",
      "text/plain": [
       "<Figure size 437.375x360 with 1 Axes>"
      ]
     },
     "metadata": {},
     "output_type": "display_data"
    }
   ],
   "source": [
    "mixed = pandas.read_csv('mixed_100.csv')\n",
    "mixed['dam_max'] = mixed['dam_avg'] * mixed['att_num']\n",
    "plot_correl_df(mixed,'dam_max',logx=True,subtitle='generic human fighters and SRD creatures')"
   ]
  },
  {
   "cell_type": "code",
   "execution_count": 61,
   "metadata": {},
   "outputs": [
    {
     "data": {
      "text/markdown": [
       "### Correlation between cr and wins: generic human fighters and SRD creatures"
      ],
      "text/plain": [
       "<IPython.core.display.Markdown object>"
      ]
     },
     "metadata": {},
     "output_type": "display_data"
    },
    {
     "data": {
      "text/markdown": [
       "r=0.935903"
      ],
      "text/plain": [
       "<IPython.core.display.Markdown object>"
      ]
     },
     "metadata": {},
     "output_type": "display_data"
    },
    {
     "data": {
      "image/png": "[encoded data removed]",
      "text/plain": [
       "<Figure size 437.375x360 with 1 Axes>"
      ]
     },
     "metadata": {},
     "output_type": "display_data"
    }
   ],
   "source": [
    "plot_correl('mixed_100.csv','cr',logx=True,subtitle='generic human fighters and SRD creatures')"
   ]
  },
  {
   "cell_type": "code",
   "execution_count": 62,
   "metadata": {},
   "outputs": [
    {
     "data": {
      "application/vnd.jupyter.widget-view+json": {
       "model_id": "18ca83da3f3b45dfa1a3086228346ee7",
       "version_major": 2,
       "version_minor": 0
      },
      "text/plain": [
       "FloatProgress(value=0.0, description='Contest: ', max=1378.0)"
      ]
     },
     "metadata": {},
     "output_type": "display_data"
    },
    {
     "name": "stdout",
     "output_type": "stream",
     "text": [
      "Performing 1378 matches of 100 rounds each\n"
     ]
    }
   ],
   "source": [
    "party = pandas.read_csv('party.csv')\n",
    "party['type'] = 'party'\n",
    "generics = pandas.read_csv('generics.csv')\n",
    "generics['type'] = 'monster'\n",
    "mixed = generics.append(party)\n",
    "mixed = mixed.reset_index(drop=True)\n",
    "run_matches(mixed,100,'mixed_party')"
   ]
  },
  {
   "cell_type": "code",
   "execution_count": 63,
   "metadata": {},
   "outputs": [
    {
     "data": {
      "text/markdown": [
       "### Correlation between hp and wins: party of fighters and SRD creatures"
      ],
      "text/plain": [
       "<IPython.core.display.Markdown object>"
      ]
     },
     "metadata": {},
     "output_type": "display_data"
    },
    {
     "data": {
      "text/markdown": [
       "r=0.964060"
      ],
      "text/plain": [
       "<IPython.core.display.Markdown object>"
      ]
     },
     "metadata": {},
     "output_type": "display_data"
    },
    {
     "data": {
      "image/png": "[encoded data removed]",
      "text/plain": [
       "<Figure size 437.375x360 with 1 Axes>"
      ]
     },
     "metadata": {},
     "output_type": "display_data"
    }
   ],
   "source": [
    "mixed = pandas.read_csv('mixed_party_100.csv')\n",
    "plot_correl_df(mixed,'hp',logx=True,subtitle='party of fighters and SRD creatures')"
   ]
  },
  {
   "cell_type": "code",
   "execution_count": 64,
   "metadata": {},
   "outputs": [
    {
     "data": {
      "text/markdown": [
       "### Correlation between ac and wins: party of fighters and SRD creatures"
      ],
      "text/plain": [
       "<IPython.core.display.Markdown object>"
      ]
     },
     "metadata": {},
     "output_type": "display_data"
    },
    {
     "data": {
      "text/markdown": [
       "r=0.789857"
      ],
      "text/plain": [
       "<IPython.core.display.Markdown object>"
      ]
     },
     "metadata": {},
     "output_type": "display_data"
    },
    {
     "data": {
      "image/png": "[encoded data removed]",
      "text/plain": [
       "<Figure size 437.375x360 with 1 Axes>"
      ]
     },
     "metadata": {},
     "output_type": "display_data"
    }
   ],
   "source": [
    "mixed = pandas.read_csv('mixed_party_100.csv')\n",
    "plot_correl_df(mixed,'ac',logx=True,subtitle='party of fighters and SRD creatures')"
   ]
  },
  {
   "cell_type": "code",
   "execution_count": 65,
   "metadata": {},
   "outputs": [
    {
     "data": {
      "text/markdown": [
       "### Correlation between dam_max and wins: party of fighters and SRD creatures"
      ],
      "text/plain": [
       "<IPython.core.display.Markdown object>"
      ]
     },
     "metadata": {},
     "output_type": "display_data"
    },
    {
     "data": {
      "text/markdown": [
       "r=0.910062"
      ],
      "text/plain": [
       "<IPython.core.display.Markdown object>"
      ]
     },
     "metadata": {},
     "output_type": "display_data"
    },
    {
     "data": {
      "image/png": "[encoded data removed]",
      "text/plain": [
       "<Figure size 437.375x360 with 1 Axes>"
      ]
     },
     "metadata": {},
     "output_type": "display_data"
    }
   ],
   "source": [
    "mixed['dam_max'] = mixed['dam_avg'] * mixed['att_num']\n",
    "plot_correl_df(mixed,'dam_max',logx=True,subtitle='party of fighters and SRD creatures')"
   ]
  },
  {
   "cell_type": "code",
   "execution_count": 66,
   "metadata": {},
   "outputs": [
    {
     "data": {
      "text/markdown": [
       "### Correlation between cr and wins: party of fighters and SRD creatures"
      ],
      "text/plain": [
       "<IPython.core.display.Markdown object>"
      ]
     },
     "metadata": {},
     "output_type": "display_data"
    },
    {
     "data": {
      "text/markdown": [
       "r=0.962785"
      ],
      "text/plain": [
       "<IPython.core.display.Markdown object>"
      ]
     },
     "metadata": {},
     "output_type": "display_data"
    },
    {
     "data": {
      "image/png": "[encoded data removed]",
      "text/plain": [
       "<Figure size 437.375x360 with 1 Axes>"
      ]
     },
     "metadata": {},
     "output_type": "display_data"
    }
   ],
   "source": [
    "plot_correl_df(mixed,'cr',logx=True,subtitle='party of fighters and SRD creatures')"
   ]
  },
  {
   "cell_type": "code",
   "execution_count": 31,
   "metadata": {},
   "outputs": [
    {
     "data": {
      "application/vnd.jupyter.widget-view+json": {
       "model_id": "917fe01eb8034a8fbe645bdaa2653717",
       "version_major": 2,
       "version_minor": 0
      },
      "text/plain": [
       "FloatProgress(value=0.0, description='Contest: ', max=1378.0)"
      ]
     },
     "metadata": {},
     "output_type": "display_data"
    },
    {
     "name": "stdout",
     "output_type": "stream",
     "text": [
      "Performing 1378 matches of 100 rounds each\n"
     ]
    }
   ],
   "source": [
    "party = pandas.read_csv('party.csv')\n",
    "party['type'] = 'party'\n",
    "randoms = pandas.read_csv('randoms_100.csv').drop('match_wins',1).drop('round_wins',1).drop('name',1)\n",
    "randoms['type'] = 'monster'\n",
    "mixed = party.append(randoms).drop('name',1).drop('cr',1)\n",
    "mixed = mixed.reset_index(drop=True)\n",
    "run_matches(mixed,100,'mixed_randoms')"
   ]
  },
  {
   "cell_type": "code",
   "execution_count": 32,
   "metadata": {},
   "outputs": [
    {
     "data": {
      "text/markdown": [
       "### Correlation between hp and wins: party of fighters and randomly-generated creatures"
      ],
      "text/plain": [
       "<IPython.core.display.Markdown object>"
      ]
     },
     "metadata": {},
     "output_type": "display_data"
    },
    {
     "data": {
      "text/markdown": [
       "r=0.789706"
      ],
      "text/plain": [
       "<IPython.core.display.Markdown object>"
      ]
     },
     "metadata": {},
     "output_type": "display_data"
    },
    {
     "data": {
      "image/png": "[encoded data removed]",
      "text/plain": [
       "<Figure size 437.375x360 with 1 Axes>"
      ]
     },
     "metadata": {},
     "output_type": "display_data"
    }
   ],
   "source": [
    "mixed = pandas.read_csv('mixed_randoms_100.csv')\n",
    "plot_correl_df(mixed,'hp',logx=True,subtitle='party of fighters and randomly-generated creatures')"
   ]
  },
  {
   "cell_type": "code",
   "execution_count": 33,
   "metadata": {},
   "outputs": [
    {
     "data": {
      "text/markdown": [
       "### Correlation between dam_max and wins: party of fighters and SRD creatures"
      ],
      "text/plain": [
       "<IPython.core.display.Markdown object>"
      ]
     },
     "metadata": {},
     "output_type": "display_data"
    },
    {
     "data": {
      "text/markdown": [
       "r=0.703698"
      ],
      "text/plain": [
       "<IPython.core.display.Markdown object>"
      ]
     },
     "metadata": {},
     "output_type": "display_data"
    },
    {
     "data": {
      "image/png": "[encoded data removed]",
      "text/plain": [
       "<Figure size 437.375x360 with 1 Axes>"
      ]
     },
     "metadata": {},
     "output_type": "display_data"
    }
   ],
   "source": [
    "mixed['dam_max'] = mixed['dam_avg'] * mixed['att_num']\n",
    "plot_correl_df(mixed,'dam_max',logx=True,subtitle='party of fighters and SRD creatures')"
   ]
  },
  {
   "cell_type": "code",
   "execution_count": 6,
   "metadata": {},
   "outputs": [
    {
     "data": {
      "application/vnd.jupyter.widget-view+json": {
       "model_id": "faf01582f58747e0a5b0d21eb94c74db",
       "version_major": 2,
       "version_minor": 0
      },
      "text/html": [
       "<p>Failed to display Jupyter Widget of type <code>FloatProgress</code>.</p>\n",
       "<p>\n",
       "  If you're reading this message in the Jupyter Notebook or JupyterLab Notebook, it may mean\n",
       "  that the widgets JavaScript is still loading. If this message persists, it\n",
       "  likely means that the widgets JavaScript library is either not installed or\n",
       "  not enabled. See the <a href=\"https://ipywidgets.readthedocs.io/en/stable/user_install.html\">Jupyter\n",
       "  Widgets Documentation</a> for setup instructions.\n",
       "</p>\n",
       "<p>\n",
       "  If you're reading this message in another frontend (for example, a static\n",
       "  rendering on GitHub or <a href=\"https://nbviewer.jupyter.org/\">NBViewer</a>),\n",
       "  it may mean that your frontend doesn't currently support widgets.\n",
       "</p>\n"
      ],
      "text/plain": [
       "FloatProgress(value=0.0, description='Contest: ', max=1225.0)"
      ]
     },
     "metadata": {},
     "output_type": "display_data"
    },
    {
     "name": "stdout",
     "output_type": "stream",
     "text": [
      "Performing 1225 matches of 100 rounds each\n"
     ]
    }
   ],
   "source": [
    "party = pandas.read_csv('party.csv')\n",
    "party['type'] = 'party'\n",
    "generics_to30 = pandas.read_csv('generics_to30.csv')\n",
    "generics_to30['type'] = 'monster(s)'\n",
    "mixed_to30 = party.append(generics_to30)\n",
    "mixed_to30 = mixed_to30.reset_index(drop=True)\n",
    "run_matches(mixed_to30,100,'mixed_to20')"
   ]
  },
  {
   "cell_type": "code",
   "execution_count": 8,
   "metadata": {},
   "outputs": [
    {
     "data": {
      "text/markdown": [
       "### Correlation between cr and wins: party of 4 fighers and 1-30 CR 1 monsters"
      ],
      "text/plain": [
       "<IPython.core.display.Markdown object>"
      ]
     },
     "metadata": {},
     "output_type": "display_data"
    },
    {
     "data": {
      "text/markdown": [
       "r=0.990644"
      ],
      "text/plain": [
       "<IPython.core.display.Markdown object>"
      ]
     },
     "metadata": {},
     "output_type": "display_data"
    },
    {
     "data": {
      "image/png": "[encoded data removed]",
      "text/plain": [
       "<matplotlib.figure.Figure at 0x117768588>"
      ]
     },
     "metadata": {},
     "output_type": "display_data"
    }
   ],
   "source": [
    "plot_correl_df(mixed_to20,'cr',logx=True,subtitle='party of 4 fighers and 1-30 CR 1 monsters')"
   ]
  },
  {
   "cell_type": "code",
   "execution_count": 10,
   "metadata": {},
   "outputs": [
    {
     "data": {
      "text/html": [
       "<div>\n",
       "<style scoped>\n",
       "    .dataframe tbody tr th:only-of-type {\n",
       "        vertical-align: middle;\n",
       "    }\n",
       "\n",
       "    .dataframe tbody tr th {\n",
       "        vertical-align: top;\n",
       "    }\n",
       "\n",
       "    .dataframe thead th {\n",
       "        text-align: right;\n",
       "    }\n",
       "</style>\n",
       "<table border=\"1\" class=\"dataframe\">\n",
       "  <thead>\n",
       "    <tr style=\"text-align: right;\">\n",
       "      <th></th>\n",
       "      <th>name</th>\n",
       "      <th>cr</th>\n",
       "      <th>ac</th>\n",
       "      <th>hp</th>\n",
       "      <th>init</th>\n",
       "      <th>att_num</th>\n",
       "      <th>hit_mod</th>\n",
       "      <th>dam_avg</th>\n",
       "      <th>type</th>\n",
       "      <th>pair_wins</th>\n",
       "      <th>total_wins</th>\n",
       "      <th>percent_wins</th>\n",
       "      <th>percent_cr</th>\n",
       "    </tr>\n",
       "  </thead>\n",
       "  <tbody>\n",
       "    <tr>\n",
       "      <th>49</th>\n",
       "      <td>CR 30</td>\n",
       "      <td>30</td>\n",
       "      <td>19</td>\n",
       "      <td>2250</td>\n",
       "      <td>0</td>\n",
       "      <td>30</td>\n",
       "      <td>3</td>\n",
       "      <td>12</td>\n",
       "      <td>monster(s)</td>\n",
       "      <td>49.0</td>\n",
       "      <td>4861.0</td>\n",
       "      <td>1.000000</td>\n",
       "      <td>1.000000</td>\n",
       "    </tr>\n",
       "    <tr>\n",
       "      <th>48</th>\n",
       "      <td>CR 29</td>\n",
       "      <td>29</td>\n",
       "      <td>19</td>\n",
       "      <td>2175</td>\n",
       "      <td>0</td>\n",
       "      <td>29</td>\n",
       "      <td>3</td>\n",
       "      <td>12</td>\n",
       "      <td>monster(s)</td>\n",
       "      <td>48.0</td>\n",
       "      <td>4800.0</td>\n",
       "      <td>0.979592</td>\n",
       "      <td>0.966667</td>\n",
       "    </tr>\n",
       "    <tr>\n",
       "      <th>47</th>\n",
       "      <td>CR 28</td>\n",
       "      <td>28</td>\n",
       "      <td>19</td>\n",
       "      <td>2100</td>\n",
       "      <td>0</td>\n",
       "      <td>28</td>\n",
       "      <td>3</td>\n",
       "      <td>12</td>\n",
       "      <td>monster(s)</td>\n",
       "      <td>47.0</td>\n",
       "      <td>4696.0</td>\n",
       "      <td>0.959184</td>\n",
       "      <td>0.933333</td>\n",
       "    </tr>\n",
       "    <tr>\n",
       "      <th>46</th>\n",
       "      <td>CR 27</td>\n",
       "      <td>27</td>\n",
       "      <td>19</td>\n",
       "      <td>2025</td>\n",
       "      <td>0</td>\n",
       "      <td>27</td>\n",
       "      <td>3</td>\n",
       "      <td>12</td>\n",
       "      <td>monster(s)</td>\n",
       "      <td>46.0</td>\n",
       "      <td>4594.0</td>\n",
       "      <td>0.938776</td>\n",
       "      <td>0.900000</td>\n",
       "    </tr>\n",
       "    <tr>\n",
       "      <th>45</th>\n",
       "      <td>CR 26</td>\n",
       "      <td>26</td>\n",
       "      <td>19</td>\n",
       "      <td>1950</td>\n",
       "      <td>0</td>\n",
       "      <td>26</td>\n",
       "      <td>3</td>\n",
       "      <td>12</td>\n",
       "      <td>monster(s)</td>\n",
       "      <td>45.0</td>\n",
       "      <td>4517.0</td>\n",
       "      <td>0.918367</td>\n",
       "      <td>0.866667</td>\n",
       "    </tr>\n",
       "    <tr>\n",
       "      <th>44</th>\n",
       "      <td>CR 25</td>\n",
       "      <td>25</td>\n",
       "      <td>19</td>\n",
       "      <td>1875</td>\n",
       "      <td>0</td>\n",
       "      <td>25</td>\n",
       "      <td>3</td>\n",
       "      <td>12</td>\n",
       "      <td>monster(s)</td>\n",
       "      <td>44.0</td>\n",
       "      <td>4395.0</td>\n",
       "      <td>0.897959</td>\n",
       "      <td>0.833333</td>\n",
       "    </tr>\n",
       "    <tr>\n",
       "      <th>43</th>\n",
       "      <td>CR 24</td>\n",
       "      <td>24</td>\n",
       "      <td>19</td>\n",
       "      <td>1800</td>\n",
       "      <td>0</td>\n",
       "      <td>24</td>\n",
       "      <td>3</td>\n",
       "      <td>12</td>\n",
       "      <td>monster(s)</td>\n",
       "      <td>43.0</td>\n",
       "      <td>4303.0</td>\n",
       "      <td>0.877551</td>\n",
       "      <td>0.800000</td>\n",
       "    </tr>\n",
       "    <tr>\n",
       "      <th>42</th>\n",
       "      <td>CR 23</td>\n",
       "      <td>23</td>\n",
       "      <td>19</td>\n",
       "      <td>1725</td>\n",
       "      <td>0</td>\n",
       "      <td>23</td>\n",
       "      <td>3</td>\n",
       "      <td>12</td>\n",
       "      <td>monster(s)</td>\n",
       "      <td>42.0</td>\n",
       "      <td>4168.0</td>\n",
       "      <td>0.857143</td>\n",
       "      <td>0.766667</td>\n",
       "    </tr>\n",
       "    <tr>\n",
       "      <th>41</th>\n",
       "      <td>CR 22</td>\n",
       "      <td>22</td>\n",
       "      <td>19</td>\n",
       "      <td>1650</td>\n",
       "      <td>0</td>\n",
       "      <td>22</td>\n",
       "      <td>3</td>\n",
       "      <td>12</td>\n",
       "      <td>monster(s)</td>\n",
       "      <td>41.0</td>\n",
       "      <td>4064.0</td>\n",
       "      <td>0.836735</td>\n",
       "      <td>0.733333</td>\n",
       "    </tr>\n",
       "    <tr>\n",
       "      <th>19</th>\n",
       "      <td>Party 20</td>\n",
       "      <td>20</td>\n",
       "      <td>21</td>\n",
       "      <td>744</td>\n",
       "      <td>0</td>\n",
       "      <td>16</td>\n",
       "      <td>10</td>\n",
       "      <td>9</td>\n",
       "      <td>party</td>\n",
       "      <td>40.0</td>\n",
       "      <td>4021.0</td>\n",
       "      <td>0.816327</td>\n",
       "      <td>0.666667</td>\n",
       "    </tr>\n",
       "    <tr>\n",
       "      <th>40</th>\n",
       "      <td>CR 21</td>\n",
       "      <td>21</td>\n",
       "      <td>19</td>\n",
       "      <td>1575</td>\n",
       "      <td>0</td>\n",
       "      <td>21</td>\n",
       "      <td>3</td>\n",
       "      <td>12</td>\n",
       "      <td>monster(s)</td>\n",
       "      <td>39.0</td>\n",
       "      <td>3910.0</td>\n",
       "      <td>0.795918</td>\n",
       "      <td>0.700000</td>\n",
       "    </tr>\n",
       "    <tr>\n",
       "      <th>16</th>\n",
       "      <td>Party 17</td>\n",
       "      <td>17</td>\n",
       "      <td>21</td>\n",
       "      <td>624</td>\n",
       "      <td>0</td>\n",
       "      <td>16</td>\n",
       "      <td>10</td>\n",
       "      <td>9</td>\n",
       "      <td>party</td>\n",
       "      <td>38.0</td>\n",
       "      <td>3748.0</td>\n",
       "      <td>0.775510</td>\n",
       "      <td>0.566667</td>\n",
       "    </tr>\n",
       "    <tr>\n",
       "      <th>39</th>\n",
       "      <td>CR 20</td>\n",
       "      <td>20</td>\n",
       "      <td>19</td>\n",
       "      <td>1500</td>\n",
       "      <td>0</td>\n",
       "      <td>20</td>\n",
       "      <td>3</td>\n",
       "      <td>12</td>\n",
       "      <td>monster(s)</td>\n",
       "      <td>37.0</td>\n",
       "      <td>3741.0</td>\n",
       "      <td>0.755102</td>\n",
       "      <td>0.666667</td>\n",
       "    </tr>\n",
       "    <tr>\n",
       "      <th>38</th>\n",
       "      <td>CR 19</td>\n",
       "      <td>19</td>\n",
       "      <td>19</td>\n",
       "      <td>1425</td>\n",
       "      <td>0</td>\n",
       "      <td>19</td>\n",
       "      <td>3</td>\n",
       "      <td>12</td>\n",
       "      <td>monster(s)</td>\n",
       "      <td>36.0</td>\n",
       "      <td>3574.0</td>\n",
       "      <td>0.734694</td>\n",
       "      <td>0.633333</td>\n",
       "    </tr>\n",
       "    <tr>\n",
       "      <th>18</th>\n",
       "      <td>Party 19</td>\n",
       "      <td>19</td>\n",
       "      <td>21</td>\n",
       "      <td>704</td>\n",
       "      <td>0</td>\n",
       "      <td>12</td>\n",
       "      <td>10</td>\n",
       "      <td>9</td>\n",
       "      <td>party</td>\n",
       "      <td>35.0</td>\n",
       "      <td>3471.0</td>\n",
       "      <td>0.714286</td>\n",
       "      <td>0.633333</td>\n",
       "    </tr>\n",
       "    <tr>\n",
       "      <th>17</th>\n",
       "      <td>Party 18</td>\n",
       "      <td>18</td>\n",
       "      <td>21</td>\n",
       "      <td>664</td>\n",
       "      <td>0</td>\n",
       "      <td>12</td>\n",
       "      <td>10</td>\n",
       "      <td>9</td>\n",
       "      <td>party</td>\n",
       "      <td>34.0</td>\n",
       "      <td>3384.0</td>\n",
       "      <td>0.693878</td>\n",
       "      <td>0.600000</td>\n",
       "    </tr>\n",
       "    <tr>\n",
       "      <th>37</th>\n",
       "      <td>CR 18</td>\n",
       "      <td>18</td>\n",
       "      <td>19</td>\n",
       "      <td>1350</td>\n",
       "      <td>0</td>\n",
       "      <td>18</td>\n",
       "      <td>3</td>\n",
       "      <td>12</td>\n",
       "      <td>monster(s)</td>\n",
       "      <td>33.0</td>\n",
       "      <td>3381.0</td>\n",
       "      <td>0.673469</td>\n",
       "      <td>0.600000</td>\n",
       "    </tr>\n",
       "    <tr>\n",
       "      <th>36</th>\n",
       "      <td>CR 17</td>\n",
       "      <td>17</td>\n",
       "      <td>19</td>\n",
       "      <td>1275</td>\n",
       "      <td>0</td>\n",
       "      <td>17</td>\n",
       "      <td>3</td>\n",
       "      <td>12</td>\n",
       "      <td>monster(s)</td>\n",
       "      <td>32.0</td>\n",
       "      <td>3242.0</td>\n",
       "      <td>0.653061</td>\n",
       "      <td>0.566667</td>\n",
       "    </tr>\n",
       "    <tr>\n",
       "      <th>15</th>\n",
       "      <td>Party 16</td>\n",
       "      <td>16</td>\n",
       "      <td>21</td>\n",
       "      <td>584</td>\n",
       "      <td>0</td>\n",
       "      <td>12</td>\n",
       "      <td>9</td>\n",
       "      <td>9</td>\n",
       "      <td>party</td>\n",
       "      <td>31.0</td>\n",
       "      <td>3063.0</td>\n",
       "      <td>0.632653</td>\n",
       "      <td>0.533333</td>\n",
       "    </tr>\n",
       "    <tr>\n",
       "      <th>35</th>\n",
       "      <td>CR 16</td>\n",
       "      <td>16</td>\n",
       "      <td>18</td>\n",
       "      <td>1200</td>\n",
       "      <td>0</td>\n",
       "      <td>16</td>\n",
       "      <td>3</td>\n",
       "      <td>12</td>\n",
       "      <td>monster(s)</td>\n",
       "      <td>30.0</td>\n",
       "      <td>3009.0</td>\n",
       "      <td>0.612245</td>\n",
       "      <td>0.533333</td>\n",
       "    </tr>\n",
       "    <tr>\n",
       "      <th>34</th>\n",
       "      <td>CR 15</td>\n",
       "      <td>15</td>\n",
       "      <td>18</td>\n",
       "      <td>1125</td>\n",
       "      <td>0</td>\n",
       "      <td>15</td>\n",
       "      <td>3</td>\n",
       "      <td>12</td>\n",
       "      <td>monster(s)</td>\n",
       "      <td>29.0</td>\n",
       "      <td>2878.0</td>\n",
       "      <td>0.591837</td>\n",
       "      <td>0.500000</td>\n",
       "    </tr>\n",
       "    <tr>\n",
       "      <th>33</th>\n",
       "      <td>CR 14</td>\n",
       "      <td>14</td>\n",
       "      <td>18</td>\n",
       "      <td>1050</td>\n",
       "      <td>0</td>\n",
       "      <td>14</td>\n",
       "      <td>3</td>\n",
       "      <td>12</td>\n",
       "      <td>monster(s)</td>\n",
       "      <td>28.0</td>\n",
       "      <td>2735.0</td>\n",
       "      <td>0.571429</td>\n",
       "      <td>0.466667</td>\n",
       "    </tr>\n",
       "    <tr>\n",
       "      <th>14</th>\n",
       "      <td>Party 15</td>\n",
       "      <td>15</td>\n",
       "      <td>20</td>\n",
       "      <td>544</td>\n",
       "      <td>0</td>\n",
       "      <td>12</td>\n",
       "      <td>9</td>\n",
       "      <td>9</td>\n",
       "      <td>party</td>\n",
       "      <td>27.0</td>\n",
       "      <td>2734.0</td>\n",
       "      <td>0.551020</td>\n",
       "      <td>0.500000</td>\n",
       "    </tr>\n",
       "    <tr>\n",
       "      <th>13</th>\n",
       "      <td>Party 14</td>\n",
       "      <td>14</td>\n",
       "      <td>20</td>\n",
       "      <td>504</td>\n",
       "      <td>0</td>\n",
       "      <td>12</td>\n",
       "      <td>9</td>\n",
       "      <td>9</td>\n",
       "      <td>party</td>\n",
       "      <td>26.0</td>\n",
       "      <td>2618.0</td>\n",
       "      <td>0.530612</td>\n",
       "      <td>0.466667</td>\n",
       "    </tr>\n",
       "    <tr>\n",
       "      <th>32</th>\n",
       "      <td>CR 13</td>\n",
       "      <td>13</td>\n",
       "      <td>18</td>\n",
       "      <td>975</td>\n",
       "      <td>0</td>\n",
       "      <td>13</td>\n",
       "      <td>3</td>\n",
       "      <td>12</td>\n",
       "      <td>monster(s)</td>\n",
       "      <td>25.0</td>\n",
       "      <td>2547.0</td>\n",
       "      <td>0.510204</td>\n",
       "      <td>0.433333</td>\n",
       "    </tr>\n",
       "    <tr>\n",
       "      <th>12</th>\n",
       "      <td>Party 13</td>\n",
       "      <td>13</td>\n",
       "      <td>20</td>\n",
       "      <td>464</td>\n",
       "      <td>0</td>\n",
       "      <td>12</td>\n",
       "      <td>9</td>\n",
       "      <td>8</td>\n",
       "      <td>party</td>\n",
       "      <td>24.0</td>\n",
       "      <td>2393.0</td>\n",
       "      <td>0.489796</td>\n",
       "      <td>0.433333</td>\n",
       "    </tr>\n",
       "    <tr>\n",
       "      <th>31</th>\n",
       "      <td>CR 12</td>\n",
       "      <td>12</td>\n",
       "      <td>17</td>\n",
       "      <td>900</td>\n",
       "      <td>0</td>\n",
       "      <td>12</td>\n",
       "      <td>3</td>\n",
       "      <td>12</td>\n",
       "      <td>monster(s)</td>\n",
       "      <td>23.0</td>\n",
       "      <td>2257.0</td>\n",
       "      <td>0.469388</td>\n",
       "      <td>0.400000</td>\n",
       "    </tr>\n",
       "    <tr>\n",
       "      <th>11</th>\n",
       "      <td>Party 12</td>\n",
       "      <td>12</td>\n",
       "      <td>20</td>\n",
       "      <td>428</td>\n",
       "      <td>0</td>\n",
       "      <td>12</td>\n",
       "      <td>8</td>\n",
       "      <td>8</td>\n",
       "      <td>party</td>\n",
       "      <td>22.0</td>\n",
       "      <td>2192.0</td>\n",
       "      <td>0.448980</td>\n",
       "      <td>0.400000</td>\n",
       "    </tr>\n",
       "    <tr>\n",
       "      <th>10</th>\n",
       "      <td>Party 11</td>\n",
       "      <td>11</td>\n",
       "      <td>20</td>\n",
       "      <td>392</td>\n",
       "      <td>0</td>\n",
       "      <td>12</td>\n",
       "      <td>8</td>\n",
       "      <td>8</td>\n",
       "      <td>party</td>\n",
       "      <td>21.0</td>\n",
       "      <td>2105.0</td>\n",
       "      <td>0.428571</td>\n",
       "      <td>0.366667</td>\n",
       "    </tr>\n",
       "    <tr>\n",
       "      <th>30</th>\n",
       "      <td>CR 11</td>\n",
       "      <td>11</td>\n",
       "      <td>17</td>\n",
       "      <td>825</td>\n",
       "      <td>0</td>\n",
       "      <td>11</td>\n",
       "      <td>3</td>\n",
       "      <td>12</td>\n",
       "      <td>monster(s)</td>\n",
       "      <td>20.0</td>\n",
       "      <td>2068.0</td>\n",
       "      <td>0.408163</td>\n",
       "      <td>0.366667</td>\n",
       "    </tr>\n",
       "    <tr>\n",
       "      <th>29</th>\n",
       "      <td>CR 10</td>\n",
       "      <td>10</td>\n",
       "      <td>17</td>\n",
       "      <td>750</td>\n",
       "      <td>0</td>\n",
       "      <td>10</td>\n",
       "      <td>3</td>\n",
       "      <td>12</td>\n",
       "      <td>monster(s)</td>\n",
       "      <td>19.0</td>\n",
       "      <td>1930.0</td>\n",
       "      <td>0.387755</td>\n",
       "      <td>0.333333</td>\n",
       "    </tr>\n",
       "    <tr>\n",
       "      <th>28</th>\n",
       "      <td>CR 9</td>\n",
       "      <td>9</td>\n",
       "      <td>16</td>\n",
       "      <td>675</td>\n",
       "      <td>0</td>\n",
       "      <td>9</td>\n",
       "      <td>3</td>\n",
       "      <td>12</td>\n",
       "      <td>monster(s)</td>\n",
       "      <td>18.0</td>\n",
       "      <td>1778.0</td>\n",
       "      <td>0.367347</td>\n",
       "      <td>0.300000</td>\n",
       "    </tr>\n",
       "    <tr>\n",
       "      <th>9</th>\n",
       "      <td>Party 10</td>\n",
       "      <td>10</td>\n",
       "      <td>19</td>\n",
       "      <td>356</td>\n",
       "      <td>0</td>\n",
       "      <td>8</td>\n",
       "      <td>8</td>\n",
       "      <td>8</td>\n",
       "      <td>party</td>\n",
       "      <td>17.0</td>\n",
       "      <td>1635.0</td>\n",
       "      <td>0.346939</td>\n",
       "      <td>0.333333</td>\n",
       "    </tr>\n",
       "    <tr>\n",
       "      <th>27</th>\n",
       "      <td>CR 8</td>\n",
       "      <td>8</td>\n",
       "      <td>16</td>\n",
       "      <td>600</td>\n",
       "      <td>0</td>\n",
       "      <td>8</td>\n",
       "      <td>3</td>\n",
       "      <td>12</td>\n",
       "      <td>monster(s)</td>\n",
       "      <td>16.0</td>\n",
       "      <td>1614.0</td>\n",
       "      <td>0.326531</td>\n",
       "      <td>0.266667</td>\n",
       "    </tr>\n",
       "    <tr>\n",
       "      <th>8</th>\n",
       "      <td>Party 9</td>\n",
       "      <td>9</td>\n",
       "      <td>19</td>\n",
       "      <td>320</td>\n",
       "      <td>0</td>\n",
       "      <td>8</td>\n",
       "      <td>8</td>\n",
       "      <td>8</td>\n",
       "      <td>party</td>\n",
       "      <td>15.0</td>\n",
       "      <td>1539.0</td>\n",
       "      <td>0.306122</td>\n",
       "      <td>0.300000</td>\n",
       "    </tr>\n",
       "    <tr>\n",
       "      <th>7</th>\n",
       "      <td>Party 8</td>\n",
       "      <td>8</td>\n",
       "      <td>19</td>\n",
       "      <td>284</td>\n",
       "      <td>0</td>\n",
       "      <td>8</td>\n",
       "      <td>7</td>\n",
       "      <td>8</td>\n",
       "      <td>party</td>\n",
       "      <td>14.0</td>\n",
       "      <td>1346.0</td>\n",
       "      <td>0.285714</td>\n",
       "      <td>0.266667</td>\n",
       "    </tr>\n",
       "    <tr>\n",
       "      <th>26</th>\n",
       "      <td>CR 7</td>\n",
       "      <td>7</td>\n",
       "      <td>15</td>\n",
       "      <td>525</td>\n",
       "      <td>0</td>\n",
       "      <td>7</td>\n",
       "      <td>3</td>\n",
       "      <td>12</td>\n",
       "      <td>monster(s)</td>\n",
       "      <td>13.0</td>\n",
       "      <td>1286.0</td>\n",
       "      <td>0.265306</td>\n",
       "      <td>0.233333</td>\n",
       "    </tr>\n",
       "    <tr>\n",
       "      <th>6</th>\n",
       "      <td>Party 7</td>\n",
       "      <td>7</td>\n",
       "      <td>19</td>\n",
       "      <td>248</td>\n",
       "      <td>0</td>\n",
       "      <td>8</td>\n",
       "      <td>7</td>\n",
       "      <td>8</td>\n",
       "      <td>party</td>\n",
       "      <td>12.0</td>\n",
       "      <td>1215.0</td>\n",
       "      <td>0.244898</td>\n",
       "      <td>0.233333</td>\n",
       "    </tr>\n",
       "    <tr>\n",
       "      <th>5</th>\n",
       "      <td>Party 6</td>\n",
       "      <td>6</td>\n",
       "      <td>19</td>\n",
       "      <td>212</td>\n",
       "      <td>0</td>\n",
       "      <td>8</td>\n",
       "      <td>7</td>\n",
       "      <td>8</td>\n",
       "      <td>party</td>\n",
       "      <td>11.0</td>\n",
       "      <td>1127.0</td>\n",
       "      <td>0.224490</td>\n",
       "      <td>0.200000</td>\n",
       "    </tr>\n",
       "    <tr>\n",
       "      <th>25</th>\n",
       "      <td>CR 6</td>\n",
       "      <td>6</td>\n",
       "      <td>15</td>\n",
       "      <td>450</td>\n",
       "      <td>0</td>\n",
       "      <td>6</td>\n",
       "      <td>3</td>\n",
       "      <td>12</td>\n",
       "      <td>monster(s)</td>\n",
       "      <td>10.0</td>\n",
       "      <td>1056.0</td>\n",
       "      <td>0.204082</td>\n",
       "      <td>0.200000</td>\n",
       "    </tr>\n",
       "    <tr>\n",
       "      <th>24</th>\n",
       "      <td>CR 5</td>\n",
       "      <td>5</td>\n",
       "      <td>15</td>\n",
       "      <td>375</td>\n",
       "      <td>0</td>\n",
       "      <td>5</td>\n",
       "      <td>3</td>\n",
       "      <td>12</td>\n",
       "      <td>monster(s)</td>\n",
       "      <td>9.0</td>\n",
       "      <td>872.0</td>\n",
       "      <td>0.183673</td>\n",
       "      <td>0.166667</td>\n",
       "    </tr>\n",
       "    <tr>\n",
       "      <th>4</th>\n",
       "      <td>Party 5</td>\n",
       "      <td>5</td>\n",
       "      <td>18</td>\n",
       "      <td>176</td>\n",
       "      <td>0</td>\n",
       "      <td>8</td>\n",
       "      <td>6</td>\n",
       "      <td>7</td>\n",
       "      <td>party</td>\n",
       "      <td>8.0</td>\n",
       "      <td>827.0</td>\n",
       "      <td>0.163265</td>\n",
       "      <td>0.166667</td>\n",
       "    </tr>\n",
       "    <tr>\n",
       "      <th>23</th>\n",
       "      <td>CR 4</td>\n",
       "      <td>4</td>\n",
       "      <td>14</td>\n",
       "      <td>300</td>\n",
       "      <td>0</td>\n",
       "      <td>4</td>\n",
       "      <td>3</td>\n",
       "      <td>12</td>\n",
       "      <td>monster(s)</td>\n",
       "      <td>7.0</td>\n",
       "      <td>706.0</td>\n",
       "      <td>0.142857</td>\n",
       "      <td>0.133333</td>\n",
       "    </tr>\n",
       "    <tr>\n",
       "      <th>3</th>\n",
       "      <td>Party 4</td>\n",
       "      <td>4</td>\n",
       "      <td>18</td>\n",
       "      <td>144</td>\n",
       "      <td>0</td>\n",
       "      <td>4</td>\n",
       "      <td>5</td>\n",
       "      <td>7</td>\n",
       "      <td>party</td>\n",
       "      <td>6.0</td>\n",
       "      <td>538.0</td>\n",
       "      <td>0.122449</td>\n",
       "      <td>0.133333</td>\n",
       "    </tr>\n",
       "    <tr>\n",
       "      <th>22</th>\n",
       "      <td>CR 3</td>\n",
       "      <td>3</td>\n",
       "      <td>13</td>\n",
       "      <td>225</td>\n",
       "      <td>0</td>\n",
       "      <td>3</td>\n",
       "      <td>3</td>\n",
       "      <td>12</td>\n",
       "      <td>monster(s)</td>\n",
       "      <td>5.0</td>\n",
       "      <td>506.0</td>\n",
       "      <td>0.102041</td>\n",
       "      <td>0.100000</td>\n",
       "    </tr>\n",
       "    <tr>\n",
       "      <th>2</th>\n",
       "      <td>Party 3</td>\n",
       "      <td>3</td>\n",
       "      <td>18</td>\n",
       "      <td>112</td>\n",
       "      <td>0</td>\n",
       "      <td>4</td>\n",
       "      <td>5</td>\n",
       "      <td>7</td>\n",
       "      <td>party</td>\n",
       "      <td>4.0</td>\n",
       "      <td>431.0</td>\n",
       "      <td>0.081633</td>\n",
       "      <td>0.100000</td>\n",
       "    </tr>\n",
       "    <tr>\n",
       "      <th>1</th>\n",
       "      <td>Party 2</td>\n",
       "      <td>2</td>\n",
       "      <td>18</td>\n",
       "      <td>80</td>\n",
       "      <td>0</td>\n",
       "      <td>4</td>\n",
       "      <td>5</td>\n",
       "      <td>7</td>\n",
       "      <td>party</td>\n",
       "      <td>3.0</td>\n",
       "      <td>293.0</td>\n",
       "      <td>0.061224</td>\n",
       "      <td>0.066667</td>\n",
       "    </tr>\n",
       "    <tr>\n",
       "      <th>21</th>\n",
       "      <td>CR 2</td>\n",
       "      <td>2</td>\n",
       "      <td>13</td>\n",
       "      <td>150</td>\n",
       "      <td>0</td>\n",
       "      <td>2</td>\n",
       "      <td>3</td>\n",
       "      <td>12</td>\n",
       "      <td>monster(s)</td>\n",
       "      <td>2.0</td>\n",
       "      <td>198.0</td>\n",
       "      <td>0.040816</td>\n",
       "      <td>0.066667</td>\n",
       "    </tr>\n",
       "    <tr>\n",
       "      <th>0</th>\n",
       "      <td>Party 1</td>\n",
       "      <td>1</td>\n",
       "      <td>18</td>\n",
       "      <td>48</td>\n",
       "      <td>0</td>\n",
       "      <td>4</td>\n",
       "      <td>5</td>\n",
       "      <td>7</td>\n",
       "      <td>party</td>\n",
       "      <td>1.0</td>\n",
       "      <td>132.0</td>\n",
       "      <td>0.020408</td>\n",
       "      <td>0.033333</td>\n",
       "    </tr>\n",
       "    <tr>\n",
       "      <th>20</th>\n",
       "      <td>CR 1</td>\n",
       "      <td>1</td>\n",
       "      <td>13</td>\n",
       "      <td>75</td>\n",
       "      <td>0</td>\n",
       "      <td>1</td>\n",
       "      <td>3</td>\n",
       "      <td>12</td>\n",
       "      <td>monster(s)</td>\n",
       "      <td>0.0</td>\n",
       "      <td>2.0</td>\n",
       "      <td>0.000000</td>\n",
       "      <td>0.033333</td>\n",
       "    </tr>\n",
       "  </tbody>\n",
       "</table>\n",
       "</div>"
      ],
      "text/plain": [
       "        name  cr  ac    hp  init  att_num  hit_mod  dam_avg        type  \\\n",
       "49     CR 30  30  19  2250     0       30        3       12  monster(s)   \n",
       "48     CR 29  29  19  2175     0       29        3       12  monster(s)   \n",
       "47     CR 28  28  19  2100     0       28        3       12  monster(s)   \n",
       "46     CR 27  27  19  2025     0       27        3       12  monster(s)   \n",
       "45     CR 26  26  19  1950     0       26        3       12  monster(s)   \n",
       "44     CR 25  25  19  1875     0       25        3       12  monster(s)   \n",
       "43     CR 24  24  19  1800     0       24        3       12  monster(s)   \n",
       "42     CR 23  23  19  1725     0       23        3       12  monster(s)   \n",
       "41     CR 22  22  19  1650     0       22        3       12  monster(s)   \n",
       "19  Party 20  20  21   744     0       16       10        9       party   \n",
       "40     CR 21  21  19  1575     0       21        3       12  monster(s)   \n",
       "16  Party 17  17  21   624     0       16       10        9       party   \n",
       "39     CR 20  20  19  1500     0       20        3       12  monster(s)   \n",
       "38     CR 19  19  19  1425     0       19        3       12  monster(s)   \n",
       "18  Party 19  19  21   704     0       12       10        9       party   \n",
       "17  Party 18  18  21   664     0       12       10        9       party   \n",
       "37     CR 18  18  19  1350     0       18        3       12  monster(s)   \n",
       "36     CR 17  17  19  1275     0       17        3       12  monster(s)   \n",
       "15  Party 16  16  21   584     0       12        9        9       party   \n",
       "35     CR 16  16  18  1200     0       16        3       12  monster(s)   \n",
       "34     CR 15  15  18  1125     0       15        3       12  monster(s)   \n",
       "33     CR 14  14  18  1050     0       14        3       12  monster(s)   \n",
       "14  Party 15  15  20   544     0       12        9        9       party   \n",
       "13  Party 14  14  20   504     0       12        9        9       party   \n",
       "32     CR 13  13  18   975     0       13        3       12  monster(s)   \n",
       "12  Party 13  13  20   464     0       12        9        8       party   \n",
       "31     CR 12  12  17   900     0       12        3       12  monster(s)   \n",
       "11  Party 12  12  20   428     0       12        8        8       party   \n",
       "10  Party 11  11  20   392     0       12        8        8       party   \n",
       "30     CR 11  11  17   825     0       11        3       12  monster(s)   \n",
       "29     CR 10  10  17   750     0       10        3       12  monster(s)   \n",
       "28      CR 9   9  16   675     0        9        3       12  monster(s)   \n",
       "9   Party 10  10  19   356     0        8        8        8       party   \n",
       "27      CR 8   8  16   600     0        8        3       12  monster(s)   \n",
       "8    Party 9   9  19   320     0        8        8        8       party   \n",
       "7    Party 8   8  19   284     0        8        7        8       party   \n",
       "26      CR 7   7  15   525     0        7        3       12  monster(s)   \n",
       "6    Party 7   7  19   248     0        8        7        8       party   \n",
       "5    Party 6   6  19   212     0        8        7        8       party   \n",
       "25      CR 6   6  15   450     0        6        3       12  monster(s)   \n",
       "24      CR 5   5  15   375     0        5        3       12  monster(s)   \n",
       "4    Party 5   5  18   176     0        8        6        7       party   \n",
       "23      CR 4   4  14   300     0        4        3       12  monster(s)   \n",
       "3    Party 4   4  18   144     0        4        5        7       party   \n",
       "22      CR 3   3  13   225     0        3        3       12  monster(s)   \n",
       "2    Party 3   3  18   112     0        4        5        7       party   \n",
       "1    Party 2   2  18    80     0        4        5        7       party   \n",
       "21      CR 2   2  13   150     0        2        3       12  monster(s)   \n",
       "0    Party 1   1  18    48     0        4        5        7       party   \n",
       "20      CR 1   1  13    75     0        1        3       12  monster(s)   \n",
       "\n",
       "    pair_wins  total_wins  percent_wins  percent_cr  \n",
       "49       49.0      4861.0      1.000000    1.000000  \n",
       "48       48.0      4800.0      0.979592    0.966667  \n",
       "47       47.0      4696.0      0.959184    0.933333  \n",
       "46       46.0      4594.0      0.938776    0.900000  \n",
       "45       45.0      4517.0      0.918367    0.866667  \n",
       "44       44.0      4395.0      0.897959    0.833333  \n",
       "43       43.0      4303.0      0.877551    0.800000  \n",
       "42       42.0      4168.0      0.857143    0.766667  \n",
       "41       41.0      4064.0      0.836735    0.733333  \n",
       "19       40.0      4021.0      0.816327    0.666667  \n",
       "40       39.0      3910.0      0.795918    0.700000  \n",
       "16       38.0      3748.0      0.775510    0.566667  \n",
       "39       37.0      3741.0      0.755102    0.666667  \n",
       "38       36.0      3574.0      0.734694    0.633333  \n",
       "18       35.0      3471.0      0.714286    0.633333  \n",
       "17       34.0      3384.0      0.693878    0.600000  \n",
       "37       33.0      3381.0      0.673469    0.600000  \n",
       "36       32.0      3242.0      0.653061    0.566667  \n",
       "15       31.0      3063.0      0.632653    0.533333  \n",
       "35       30.0      3009.0      0.612245    0.533333  \n",
       "34       29.0      2878.0      0.591837    0.500000  \n",
       "33       28.0      2735.0      0.571429    0.466667  \n",
       "14       27.0      2734.0      0.551020    0.500000  \n",
       "13       26.0      2618.0      0.530612    0.466667  \n",
       "32       25.0      2547.0      0.510204    0.433333  \n",
       "12       24.0      2393.0      0.489796    0.433333  \n",
       "31       23.0      2257.0      0.469388    0.400000  \n",
       "11       22.0      2192.0      0.448980    0.400000  \n",
       "10       21.0      2105.0      0.428571    0.366667  \n",
       "30       20.0      2068.0      0.408163    0.366667  \n",
       "29       19.0      1930.0      0.387755    0.333333  \n",
       "28       18.0      1778.0      0.367347    0.300000  \n",
       "9        17.0      1635.0      0.346939    0.333333  \n",
       "27       16.0      1614.0      0.326531    0.266667  \n",
       "8        15.0      1539.0      0.306122    0.300000  \n",
       "7        14.0      1346.0      0.285714    0.266667  \n",
       "26       13.0      1286.0      0.265306    0.233333  \n",
       "6        12.0      1215.0      0.244898    0.233333  \n",
       "5        11.0      1127.0      0.224490    0.200000  \n",
       "25       10.0      1056.0      0.204082    0.200000  \n",
       "24        9.0       872.0      0.183673    0.166667  \n",
       "4         8.0       827.0      0.163265    0.166667  \n",
       "23        7.0       706.0      0.142857    0.133333  \n",
       "3         6.0       538.0      0.122449    0.133333  \n",
       "22        5.0       506.0      0.102041    0.100000  \n",
       "2         4.0       431.0      0.081633    0.100000  \n",
       "1         3.0       293.0      0.061224    0.066667  \n",
       "21        2.0       198.0      0.040816    0.066667  \n",
       "0         1.0       132.0      0.020408    0.033333  \n",
       "20        0.0         2.0      0.000000    0.033333  "
      ]
     },
     "execution_count": 10,
     "metadata": {},
     "output_type": "execute_result"
    }
   ],
   "source": [
    "mixed_to20.sort_values(['percent_wins'],ascending=False)"
   ]
  },
  {
   "cell_type": "code",
   "execution_count": null,
   "metadata": {},
   "outputs": [],
   "source": []
  }
 ],
 "metadata": {
  "kernelspec": {
   "display_name": "Python 3",
   "language": "python",
   "name": "python3"
  },
  "language_info": {
   "codemirror_mode": {
    "name": "ipython",
    "version": 3
   },
   "file_extension": ".py",
   "mimetype": "text/x-python",
   "name": "python",
   "nbconvert_exporter": "python",
   "pygments_lexer": "ipython3",
   "version": "3.5.1"
  }
 },
 "nbformat": 4,
 "nbformat_minor": 2
}
