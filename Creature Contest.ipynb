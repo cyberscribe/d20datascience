{
 "cells": [
  {
   "cell_type": "code",
   "execution_count": 60,
   "metadata": {},
   "outputs": [],
   "source": [
    "import sys\n",
    "#!{sys.executable} -m pip install pandas\n",
    "#!{sys.executable} -m pip install seaborn\n",
    "import numpy as np\n",
    "import pandas\n",
    "import seaborn as sns\n",
    "import warnings\n",
    "from ipywidgets import FloatProgress\n",
    "from IPython.display import display"
   ]
  },
  {
   "cell_type": "code",
   "execution_count": 3,
   "metadata": {},
   "outputs": [],
   "source": [
    "debug_rounds = False\n",
    "debug_matches = False"
   ]
  },
  {
   "cell_type": "code",
   "execution_count": 4,
   "metadata": {},
   "outputs": [],
   "source": [
    "def d20():\n",
    "    return np.random.randint(1,21)\n",
    "\n",
    "def do_rounds_and_update(a,b,rounds,df):\n",
    "    wins = do_match(a,b,rounds)\n",
    "    a_wins = wins[0]\n",
    "    b_wins = wins[1]\n",
    "    a_id = a[0]\n",
    "    b_id = b[0]\n",
    "    df.at[a_id,'total_wins'] = df.at[a_id,'total_wins'] + a_wins\n",
    "    df.at[b_id,'total_wins'] = df.at[b_id,'total_wins'] + b_wins\n",
    "    if a_wins > b_wins:\n",
    "        df.at[a_id,'pair_wins'] = df.at[a_id,'pair_wins'] + 1\n",
    "    else:\n",
    "        df.at[b_id,'pair_wins'] = df.at[b_id,'pair_wins'] + 1\n",
    "    return creatures\n",
    "\n",
    "def do_match(a,b,rounds):\n",
    "    a_wins = 0\n",
    "    b_wins = 0\n",
    "    for _ in np.arange(rounds):\n",
    "        wins = do_round(a,b)\n",
    "        a_wins = a_wins + wins[0]\n",
    "        b_wins = b_wins + wins[1]\n",
    "    if debug_matches:\n",
    "        print (\"After %d rounds %s won %d times and %s won %d times\" % (rounds,a.name,a_wins,b.name,b_wins))\n",
    "    return [a_wins,b_wins]\n",
    "\n",
    "def do_round( a, b ):\n",
    "    a_init = d20() + a.init\n",
    "    if debug_rounds:\n",
    "        print(\"%s rolled %d init\" % (a.name,a_init))\n",
    "    b_init = d20() + b.init\n",
    "    if debug_rounds:\n",
    "        print(\"%s rolled %d init\" % (b.name,b_init))\n",
    "    if (a_init >= b_init):\n",
    "        first = a.copy()\n",
    "        second = b.copy()\n",
    "        in_order = True\n",
    "    else:\n",
    "        first = b.copy()\n",
    "        second = a.copy()\n",
    "        in_order = False\n",
    "    round = 0\n",
    "    while (first.hp > 0 and second.hp > 0):\n",
    "        if debug_rounds:\n",
    "            print(\"    Round %d: %s hp is %d and %s hp is %d\" % (round+1, first.name,first.hp,second.name,second.hp))\n",
    "        round = round + 1\n",
    "        first,second = do_attack(first,second)\n",
    "        if (second.hp <= 0):\n",
    "            if debug_rounds:\n",
    "                print(\"%s is dead\" % second.name)\n",
    "            if in_order:\n",
    "                return [1,0] #a went first and won\n",
    "            else:\n",
    "                return [0,1] #b went first and won\n",
    "        else:\n",
    "            second,first = do_attack(second,first)\n",
    "            if (first.hp <= 0):\n",
    "                if debug_rounds:\n",
    "                    print(\"%s is dead\" % first.name)\n",
    "                if in_order:\n",
    "                    return [0,1] #b went second and won\n",
    "                else:\n",
    "                    return [1,0] #a went second and won\n",
    "    \"\"\"Something went wrong here, nobody wins\"\"\"\n",
    "    return [0,0]\n",
    "    \n",
    "def do_attack( attacker, target ):\n",
    "    if debug_rounds:\n",
    "        print (\"        %s makes %d attacks against %s\" % (attacker.name, attacker.att_num, target.name))\n",
    "    for _ in np.arange(attacker.att_num):\n",
    "        attack = d20() + attacker.hit_mod\n",
    "        if (attack >= target.ac):\n",
    "            target.hp = target.hp - attacker.dam_avg\n",
    "            if debug_rounds:\n",
    "                print(\"            %s hits %s for %d damage\" % (attacker.name, target.name, attacker.dam_avg ))\n",
    "        else:\n",
    "            if debug_rounds:\n",
    "                print(\"            %s misses %s\" % (attacker.name, target.name))\n",
    "    return [attacker, target]"
   ]
  },
  {
   "cell_type": "code",
   "execution_count": 5,
   "metadata": {},
   "outputs": [],
   "source": [
    "# TODO: determine rounds for a 95% confidence interval in accordance with:\n",
    "# https://calhoun.nps.edu/bitstream/handle/10945/798/NPS-MAE-04-005.pdf?sequence=1\n",
    "\n",
    "def run_matches(creatures,rounds):\n",
    "    rows = creatures.shape[0]\n",
    "    creatures['pair_wins'] = np.zeros(rows)\n",
    "    creatures['total_wins'] = np.zeros(rows)\n",
    "\n",
    "    matches = (rows**2+rows)/2\n",
    "\n",
    "    f = FloatProgress(min=0, max=matches, description=\"Contests: \")\n",
    "    display(f)\n",
    "\n",
    "    print(\"Performing %'d matches of %'d rounds each\" % (matches,rounds))\n",
    "    for i in np.arange(rows):\n",
    "        a = creatures.take([i]).to_records()[0]\n",
    "        for j in np.arange(i+1,rows):\n",
    "            b = creatures.take([j]).to_records()[0]\n",
    "            creatures = do_rounds_and_update(a,b,rounds,creatures)\n",
    "            f.value = f.value + 1\n",
    "    \n",
    "    filename = \"creatures_%02d.csv\" % (rounds)"
   ]
  },
  {
   "cell_type": "code",
   "execution_count": null,
   "metadata": {},
   "outputs": [],
   "source": [
    "creatures = pandas.read_csv('creatures.csv')\n",
    "run_matches(100)\n",
    "creatures.to_csv('creatures_100.csv')"
   ]
  },
  {
   "cell_type": "code",
   "execution_count": 145,
   "metadata": {
    "scrolled": true
   },
   "outputs": [
    {
     "name": "stdout",
     "output_type": "stream",
     "text": [
      "r=0.818796\n"
     ]
    },
    {
     "data": {
      "image/png": "[encoded data removed]",
      "text/plain": [
       "<Figure size 432x288 with 1 Axes>"
      ]
     },
     "metadata": {},
     "output_type": "display_data"
    }
   ],
   "source": [
    "creatures = pandas.read_csv('creatures_100.csv')\n",
    "rows = creatures.shape[0]\n",
    "creatures['percent_wins'] = creatures['pair_wins'] / (rows-1)\n",
    "max_hp = creatures.loc[creatures['hp'].idxmax()]['hp']\n",
    "creatures['percent_hp'] = creatures['hp'] / max_hp\n",
    "creatures = creatures.sort_values(['percent_wins'],ascending=False)\n",
    "warnings.filterwarnings('ignore')\n",
    "sns.regplot(creatures['percent_hp'],creatures['percent_wins'],logx=True)\n",
    "r = np.corrcoef(creatures['percent_hp'],10 ** creatures['percent_wins'])[0][1]\n",
    "print(\"r=%2f\" % r)"
   ]
  },
  {
   "cell_type": "code",
   "execution_count": 106,
   "metadata": {},
   "outputs": [
    {
     "data": {
      "text/plain": [
       "array([[<matplotlib.axes._subplots.AxesSubplot object at 0x119c93860>]],\n",
       "      dtype=object)"
      ]
     },
     "execution_count": 106,
     "metadata": {},
     "output_type": "execute_result"
    },
    {
     "data": {
      "image/png": "[encoded data removed]",
      "text/plain": [
       "<Figure size 432x288 with 1 Axes>"
      ]
     },
     "metadata": {},
     "output_type": "display_data"
    }
   ],
   "source": [
    "# Generate initiative modifiers in range -5,5 with normal distribution\n",
    "s = np.round(np.random.normal(0, 1.66, 1000),2)\n",
    "p = pandas.DataFrame(data=s)\n",
    "p = p[p[0].between(-5, 5, inclusive=True)]\n",
    "p.hist(bins=10)"
   ]
  },
  {
   "cell_type": "code",
   "execution_count": null,
   "metadata": {},
   "outputs": [],
   "source": []
  }
 ],
 "metadata": {
  "kernelspec": {
   "display_name": "Python 3",
   "language": "python",
   "name": "python3"
  },
  "language_info": {
   "codemirror_mode": {
    "name": "ipython",
    "version": 3
   },
   "file_extension": ".py",
   "mimetype": "text/x-python",
   "name": "python",
   "nbconvert_exporter": "python",
   "pygments_lexer": "ipython3",
   "version": "3.5.1"
  }
 },
 "nbformat": 4,
 "nbformat_minor": 2
}
