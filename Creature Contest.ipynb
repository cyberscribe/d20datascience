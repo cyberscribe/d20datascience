{
 "cells": [
  {
   "cell_type": "code",
   "execution_count": 12,
   "metadata": {},
   "outputs": [],
   "source": [
    "import numpy as np\n",
    "import pandas\n",
    "from ipywidgets import FloatProgress\n",
    "from IPython.display import display\n",
    "\n",
    "def d20():\n",
    "    return np.random.randint(1,21)\n",
    "\n",
    "def do_rounds_and_update(a,b,rounds,df):\n",
    "    wins = do_match(a,b,rounds)\n",
    "    a_wins = wins[0]\n",
    "    b_wins = wins[1]\n",
    "    a_id = a[0]\n",
    "    b_id = b[0]\n",
    "    df.at[a_id,'total_wins'] = df.at[a_id,'total_wins'] + a_wins\n",
    "    df.at[b_id,'total_wins'] = df.at[b_id,'total_wins'] + b_wins\n",
    "    if a_wins > b_wins:\n",
    "        df.at[a_id,'pair_wins'] = df.at[a_id,'pair_wins'] + 1\n",
    "    else:\n",
    "        df.at[b_id,'pair_wins'] = df.at[b_id,'pair_wins'] + 1\n",
    "    return creatures\n",
    "\n",
    "def do_match(a,b,rounds):\n",
    "    a_wins = 0\n",
    "    b_wins = 0\n",
    "    for _ in np.arange(rounds):\n",
    "        wins = do_round(a,b)\n",
    "        a_wins = a_wins + wins[0]\n",
    "        b_wins = b_wins + wins[1]\n",
    "    if debug_matches:\n",
    "        print (\"After %d rounds %s won %d times and %s won %d times\" % (rounds,a.name,a_wins,b.name,b_wins))\n",
    "    return [a_wins,b_wins]\n",
    "\n",
    "def do_round( a, b ):\n",
    "    a_init = d20() + a.init\n",
    "    if debug_rounds:\n",
    "        print(\"%s rolled %d init\" % (a.name,a_init))\n",
    "    b_init = d20() + b.init\n",
    "    if debug_rounds:\n",
    "        print(\"%s rolled %d init\" % (b.name,b_init))\n",
    "    if (a_init >= b_init):\n",
    "        first = a.copy()\n",
    "        second = b.copy()\n",
    "        in_order = True\n",
    "    else:\n",
    "        first = b.copy()\n",
    "        second = a.copy()\n",
    "        in_order = False\n",
    "    round = 0\n",
    "    while (first.hp > 0 and second.hp > 0):\n",
    "        if debug_rounds:\n",
    "            print(\"    Round %d: %s hp is %d and %s hp is %d\" % (round+1, first.name,first.hp,second.name,second.hp))\n",
    "        round = round + 1\n",
    "        first,second = do_attack(first,second)\n",
    "        if (second.hp <= 0):\n",
    "            if debug_rounds:\n",
    "                print(\"%s is dead\" % second.name)\n",
    "            if in_order:\n",
    "                return [1,0] #a went first and won\n",
    "            else:\n",
    "                return [0,1] #b went first and won\n",
    "        else:\n",
    "            second,first = do_attack(second,first)\n",
    "            if (first.hp <= 0):\n",
    "                if debug_rounds:\n",
    "                    print(\"%s is dead\" % first.name)\n",
    "                if in_order:\n",
    "                    return [0,1] #b went second and won\n",
    "                else:\n",
    "                    return [1,0] #a went second and won\n",
    "    \"\"\"Something went wrong here, nobody wins\"\"\"\n",
    "    return [0,0]\n",
    "    \n",
    "def do_attack( attacker, target ):\n",
    "    if debug_rounds:\n",
    "        print (\"        %s makes %d attacks against %s\" % (attacker.name, attacker.att_num, target.name))\n",
    "    for _ in np.arange(attacker.att_num):\n",
    "        attack = d20() + attacker.hit_mod\n",
    "        if (attack >= target.ac):\n",
    "            target.hp = target.hp - attacker.dam_avg\n",
    "            if debug_rounds:\n",
    "                print(\"            %s hits %s for %d damage\" % (attacker.name, target.name, attacker.dam_avg ))\n",
    "        else:\n",
    "            if debug_rounds:\n",
    "                print(\"            %s misses %s\" % (attacker.name, target.name))\n",
    "    return [attacker, target]"
   ]
  },
  {
   "cell_type": "code",
   "execution_count": 13,
   "metadata": {},
   "outputs": [
    {
     "data": {
      "application/vnd.jupyter.widget-view+json": {
       "model_id": "d39f08eb061f481facf3f81d883f4aeb",
       "version_major": 2,
       "version_minor": 0
      },
      "text/plain": [
       "FloatProgress(value=0.0, description='Running contests: ', max=52975.0)"
      ]
     },
     "metadata": {},
     "output_type": "display_data"
    }
   ],
   "source": [
    "debug_rounds = False\n",
    "debug_matches = False\n",
    "# rounds for a 95% confidence interval in accordance with:\n",
    "# https://calhoun.nps.edu/bitstream/handle/10945/798/NPS-MAE-04-005.pdf?sequence=1\n",
    "rounds = 100\n",
    "creatures = pandas.read_csv('creatures.csv')\n",
    "rows = creatures.shape[0]\n",
    "creatures['pair_wins'] = np.zeros(rows)\n",
    "creatures['total_wins'] = np.zeros(rows)\n",
    "\n",
    "# a = creatures.sample(1).to_records()[0]\n",
    "# b = creatures.sample(1).to_records()[0]\n",
    "# a = creatures.take([0]).to_records()[0]\n",
    "# b = creatures.take([1]).to_records()[0]\n",
    "# do_rounds_and_update(a,b,rounds,creatures)\n",
    "# creatures.loc[creatures['total_wins'] > 0]\n",
    "\n",
    "matches = (rows**2+rows)/2\n",
    "\n",
    "f = FloatProgress(min=0, max=matches, description=\"Contests: \")\n",
    "display(f)\n",
    "\n",
    "print(\"Performing %'d matches of %'d rounds each\" % (matches,rounds))\n",
    "for i in np.arange(rows):\n",
    "    a = creatures.take([i]).to_records()[0]\n",
    "    for j in np.arange(i+1,rows):\n",
    "        b = creatures.take([j]).to_records()[0]\n",
    "        creatures = do_rounds_and_update(a,b,rounds,creatures)\n",
    "        f.value = f.value + 1"
   ]
  },
  {
   "cell_type": "code",
   "execution_count": 15,
   "metadata": {},
   "outputs": [
    {
     "data": {
      "text/plain": [
       "array([[<matplotlib.axes._subplots.AxesSubplot object at 0x11bd23780>]],\n",
       "      dtype=object)"
      ]
     },
     "execution_count": 15,
     "metadata": {},
     "output_type": "execute_result"
    },
    {
     "data": {
      "image/png": "[encoded data removed]",
      "text/plain": [
       "<Figure size 432x288 with 1 Axes>"
      ]
     },
     "metadata": {},
     "output_type": "display_data"
    }
   ],
   "source": [
    "filename = \"creatures_%02d.csv\" % (rounds)\n",
    "creatures.to_csv(filename)\n",
    "creatures.sort_values(['total_wins','pair_wins'],ascending=[0,0])\n",
    "creatures.hist('total_wins')"
   ]
  },
  {
   "cell_type": "code",
   "execution_count": null,
   "metadata": {},
   "outputs": [],
   "source": []
  }
 ],
 "metadata": {
  "kernelspec": {
   "display_name": "Python 3",
   "language": "python",
   "name": "python3"
  },
  "language_info": {
   "codemirror_mode": {
    "name": "ipython",
    "version": 3
   },
   "file_extension": ".py",
   "mimetype": "text/x-python",
   "name": "python",
   "nbconvert_exporter": "python",
   "pygments_lexer": "ipython3",
   "version": "3.5.1"
  }
 },
 "nbformat": 4,
 "nbformat_minor": 2
}
