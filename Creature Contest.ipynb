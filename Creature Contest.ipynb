{
 "cells": [
  {
   "cell_type": "code",
   "execution_count": 137,
   "metadata": {},
   "outputs": [],
   "source": [
    "import sys\n",
    "#!{sys.executable} -m pip install pandas\n",
    "#!{sys.executable} -m pip install seaborn\n",
    "import numpy as np\n",
    "import pandas\n",
    "import seaborn as sns\n",
    "import warnings\n",
    "from ipywidgets import FloatProgress\n",
    "from IPython.display import display, Markdown, Latex"
   ]
  },
  {
   "cell_type": "code",
   "execution_count": 2,
   "metadata": {},
   "outputs": [],
   "source": [
    "debug_rounds = False\n",
    "debug_matches = False"
   ]
  },
  {
   "cell_type": "code",
   "execution_count": 150,
   "metadata": {},
   "outputs": [],
   "source": [
    "def d20():\n",
    "    return np.random.randint(1,21)\n",
    "\n",
    "def do_rounds_and_update(a,b,rounds,df):\n",
    "    wins = do_match(a,b,rounds)\n",
    "    a_wins = wins[0]\n",
    "    b_wins = wins[1]\n",
    "    a_id = a[0]\n",
    "    b_id = b[0]\n",
    "    df.at[a_id,'total_wins'] = df.at[a_id,'total_wins'] + a_wins\n",
    "    df.at[b_id,'total_wins'] = df.at[b_id,'total_wins'] + b_wins\n",
    "    if a_wins > b_wins:\n",
    "        df.at[a_id,'pair_wins'] = df.at[a_id,'pair_wins'] + 1\n",
    "    else:\n",
    "        df.at[b_id,'pair_wins'] = df.at[b_id,'pair_wins'] + 1\n",
    "    return df\n",
    "\n",
    "def do_match(a,b,rounds):\n",
    "    a_wins = 0\n",
    "    b_wins = 0\n",
    "    for _ in np.arange(rounds):\n",
    "        wins = do_round(a,b)\n",
    "        a_wins = a_wins + wins[0]\n",
    "        b_wins = b_wins + wins[1]\n",
    "    if debug_matches:\n",
    "        print (\"After %d rounds %s won %d times and %s won %d times\" % (rounds,a.name,a_wins,b.name,b_wins))\n",
    "    return [a_wins,b_wins]\n",
    "\n",
    "def do_round( a, b ):\n",
    "    a_init = d20() + a.init\n",
    "    if debug_rounds:\n",
    "        print(\"%s rolled %d init\" % (a.name,a_init))\n",
    "    b_init = d20() + b.init\n",
    "    if debug_rounds:\n",
    "        print(\"%s rolled %d init\" % (b.name,b_init))\n",
    "    if (a_init >= b_init):\n",
    "        first = a.copy()\n",
    "        second = b.copy()\n",
    "        in_order = True\n",
    "    else:\n",
    "        first = b.copy()\n",
    "        second = a.copy()\n",
    "        in_order = False\n",
    "    round = 0\n",
    "    while (first.hp > 0 and second.hp > 0):\n",
    "        if debug_rounds:\n",
    "            print(\"    Round %d: %s hp is %d and %s hp is %d\" % (round+1, first.name,first.hp,second.name,second.hp))\n",
    "        round = round + 1\n",
    "        first,second = do_attack(first,second)\n",
    "        if (second.hp <= 0):\n",
    "            if debug_rounds:\n",
    "                print(\"%s is dead\" % second.name)\n",
    "            if in_order:\n",
    "                return [1,0] #a went first and won\n",
    "            else:\n",
    "                return [0,1] #b went first and won\n",
    "        else:\n",
    "            second,first = do_attack(second,first)\n",
    "            if (first.hp <= 0):\n",
    "                if debug_rounds:\n",
    "                    print(\"%s is dead\" % first.name)\n",
    "                if in_order:\n",
    "                    return [0,1] #b went second and won\n",
    "                else:\n",
    "                    return [1,0] #a went second and won\n",
    "    \"\"\"Something went wrong here, nobody wins\"\"\"\n",
    "    return [0,0]\n",
    "    \n",
    "def do_attack( attacker, target ):\n",
    "    if debug_rounds:\n",
    "        print (\"        %s makes %d attacks against %s\" % (attacker.name, attacker.att_num, target.name))\n",
    "    for _ in np.arange(attacker.att_num):\n",
    "        attack = d20() + attacker.hit_mod\n",
    "        if (attack >= target.ac):\n",
    "            target.hp = target.hp - attacker.dam_avg\n",
    "            if debug_rounds:\n",
    "                print(\"            %s hits %s for %d damage\" % (attacker.name, target.name, attacker.dam_avg ))\n",
    "        else:\n",
    "            if debug_rounds:\n",
    "                print(\"            %s misses %s\" % (attacker.name, target.name))\n",
    "    return [attacker, target]\n",
    "\n",
    "def run_matches(creatures,rounds,name=\"creatures\"):\n",
    "    rows = creatures.shape[0]\n",
    "    creatures['pair_wins'] = np.zeros(rows)\n",
    "    creatures['total_wins'] = np.zeros(rows)\n",
    "\n",
    "    matches = (rows**2+rows)/2\n",
    "\n",
    "    f = FloatProgress(min=0, max=matches, description=\"Contest: \")\n",
    "    display(f)\n",
    "\n",
    "    print(\"Performing %d matches of %d rounds each\" % (matches,rounds))\n",
    "    for i in np.arange(rows):\n",
    "        a = creatures.take([i]).to_records()[0]\n",
    "        for j in np.arange(i+1,rows):\n",
    "            b = creatures.take([j]).to_records()[0]\n",
    "            creatures = do_rounds_and_update(a,b,rounds,creatures)\n",
    "            f.value = f.value + 1\n",
    "    \n",
    "    filename = \"%s_%02d.csv\" % (name,rounds)\n",
    "    creatures.to_csv(filename)\n",
    "\n",
    "def gen_init(amount):\n",
    "    \"\"\"Generate initiative modifiers in range -5,5 with normal distribution\"\"\"\n",
    "    s = np.round(np.random.normal(0, 1.66, amount),2)\n",
    "    p = pandas.DataFrame(data=s)\n",
    "    p = p[p[0].between(-5, 5, inclusive=True)]\n",
    "    return p\n",
    "\n",
    "def gen_ac(amount):\n",
    "    return np.random.randint(13,20,amount)\n",
    "\n",
    "def gen_hp(amount):\n",
    "    return np.random.randint(10,810,amount)\n",
    "\n",
    "def gen_att_num(amount):\n",
    "    return np.random.randint(1,6,amount)\n",
    "\n",
    "def gen_hit_mod(amount):\n",
    "    return np.random.randint(3,15,amount)\n",
    "\n",
    "def gen_dam_avg(amount):\n",
    "    return np.random.randint(2,62,amount)\n",
    "\n",
    "def create_randoms(size):\n",
    "    \"\"\"name,cr,ac,hp,init,att_num,hit_mod,dam_avg\"\"\"\n",
    "    randoms = pandas.DataFrame()\n",
    "    randoms['name'] = np.repeat([''],size)\n",
    "    randoms['cr'] = np.zeros(size)\n",
    "    randoms['ac'] = gen_ac(size)\n",
    "    randoms['hp'] = gen_hp(size)\n",
    "    randoms['init'] = gen_init(size)\n",
    "    randoms['att_num'] = gen_att_num(size)\n",
    "    randoms['hit_mod'] = gen_hit_mod(size)\n",
    "    randoms['dam_avg'] = gen_dam_avg(size)\n",
    "    return randoms\n",
    "\n",
    "def plot_correl(file,col,logx=False,order=1):\n",
    "    df = pandas.read_csv(file)\n",
    "    return plot_correl_df(df,col,logx,order)\n",
    "\n",
    "def plot_correl_df(df,col,logx=False,order=1):\n",
    "    rows = df.shape[0]\n",
    "    df['percent_wins'] = df['pair_wins'] / (rows-1)\n",
    "    max_col = df.loc[df[col].idxmax()][col]\n",
    "    df['percent_' + col] = df[col] / max_col\n",
    "    df = df.sort_values(['percent_wins'],ascending=False)\n",
    "    warnings.filterwarnings('ignore')\n",
    "    r = np.corrcoef(df['percent_'+col],df['percent_wins'])[0][1]\n",
    "    display(Markdown('### Correlation between %s and wins' % col))\n",
    "    if np.absolute(r) < 0.3:\n",
    "        randoms.plot.scatter(col,'pair_wins')\n",
    "    else:\n",
    "        sns.regplot(df['percent_'+col],df['percent_wins'],logx=logx,order=order)\n",
    "    display(Markdown(\"r=%2f\" % r))"
   ]
  },
  {
   "cell_type": "code",
   "execution_count": 8,
   "metadata": {},
   "outputs": [
    {
     "data": {
      "application/vnd.jupyter.widget-view+json": {
       "model_id": "01668063030f41a0874d7156ae2b2442",
       "version_major": 2,
       "version_minor": 0
      },
      "text/plain": [
       "FloatProgress(value=0.0, description='Contest: ', max=52975.0)"
      ]
     },
     "metadata": {},
     "output_type": "display_data"
    },
    {
     "name": "stdout",
     "output_type": "stream",
     "text": [
      "Performing 52975 matches of 100 rounds each\n"
     ]
    }
   ],
   "source": [
    "creatures = pandas.read_csv('creatures.csv')\n",
    "run_matches(creatures,100)"
   ]
  },
  {
   "cell_type": "code",
   "execution_count": 151,
   "metadata": {
    "scrolled": true
   },
   "outputs": [
    {
     "data": {
      "text/markdown": [
       "### Correlation between hp and wins"
      ],
      "text/plain": [
       "<IPython.core.display.Markdown object>"
      ]
     },
     "metadata": {},
     "output_type": "display_data"
    },
    {
     "data": {
      "text/markdown": [
       "r=0.739758"
      ],
      "text/plain": [
       "<IPython.core.display.Markdown object>"
      ]
     },
     "metadata": {},
     "output_type": "display_data"
    },
    {
     "data": {
      "image/png": "[encoded data removed]",
      "text/plain": [
       "<matplotlib.figure.Figure at 0x11255d0f0>"
      ]
     },
     "metadata": {},
     "output_type": "display_data"
    }
   ],
   "source": [
    "plot_correl('creatures_100.csv','hp',logx=True)"
   ]
  },
  {
   "cell_type": "code",
   "execution_count": 122,
   "metadata": {},
   "outputs": [
    {
     "name": "stdout",
     "output_type": "stream",
     "text": [
      "r=0.824020\n"
     ]
    },
    {
     "data": {
      "image/png": "[encoded data removed]",
      "text/plain": [
       "<matplotlib.figure.Figure at 0x112578278>"
      ]
     },
     "metadata": {},
     "output_type": "display_data"
    }
   ],
   "source": [
    "plot_correl('creatures_100.csv','cr',logx=True)"
   ]
  },
  {
   "cell_type": "code",
   "execution_count": 14,
   "metadata": {},
   "outputs": [
    {
     "data": {
      "application/vnd.jupyter.widget-view+json": {
       "model_id": "09e1114d60c541dd9ce0f46b7b5aac31",
       "version_major": 2,
       "version_minor": 0
      },
      "text/plain": [
       "FloatProgress(value=0.0, description='Contest: ', max=406.0)"
      ]
     },
     "metadata": {},
     "output_type": "display_data"
    },
    {
     "name": "stdout",
     "output_type": "stream",
     "text": [
      "Performing 406 matches of 100 rounds each\n"
     ]
    }
   ],
   "source": [
    "creatures = pandas.read_csv('creatures.csv')\n",
    "creatures_avg = creatures.groupby('cr').mean().apply(np.round).astype(int).reset_index()\n",
    "creatures_avg['name'] = creatures_avg['cr']\n",
    "run_matches(creatures_avg,100,'creatures_avg')"
   ]
  },
  {
   "cell_type": "code",
   "execution_count": 64,
   "metadata": {},
   "outputs": [
    {
     "name": "stdout",
     "output_type": "stream",
     "text": [
      "r=0.875335\n"
     ]
    },
    {
     "data": {
      "image/png": "[encoded data removed]",
      "text/plain": [
       "<matplotlib.figure.Figure at 0x1125b7e80>"
      ]
     },
     "metadata": {},
     "output_type": "display_data"
    }
   ],
   "source": [
    "plot_correl('creatures_avg_100.csv','hp',logx=True)"
   ]
  },
  {
   "cell_type": "code",
   "execution_count": 95,
   "metadata": {},
   "outputs": [
    {
     "name": "stdout",
     "output_type": "stream",
     "text": [
      "r=0.873089\n"
     ]
    },
    {
     "data": {
      "image/png": "[encoded data removed]",
      "text/plain": [
       "<matplotlib.figure.Figure at 0x1a19211320>"
      ]
     },
     "metadata": {},
     "output_type": "display_data"
    }
   ],
   "source": [
    "plot_correl('creatures_avg_100.csv','cr')"
   ]
  },
  {
   "cell_type": "code",
   "execution_count": 18,
   "metadata": {},
   "outputs": [
    {
     "data": {
      "application/vnd.jupyter.widget-view+json": {
       "model_id": "ecc83018ec2b4ad089397083bb61e7d7",
       "version_major": 2,
       "version_minor": 0
      },
      "text/html": [
       "<p>Failed to display Jupyter Widget of type <code>FloatProgress</code>.</p>\n",
       "<p>\n",
       "  If you're reading this message in the Jupyter Notebook or JupyterLab Notebook, it may mean\n",
       "  that the widgets JavaScript is still loading. If this message persists, it\n",
       "  likely means that the widgets JavaScript library is either not installed or\n",
       "  not enabled. See the <a href=\"https://ipywidgets.readthedocs.io/en/stable/user_install.html\">Jupyter\n",
       "  Widgets Documentation</a> for setup instructions.\n",
       "</p>\n",
       "<p>\n",
       "  If you're reading this message in another frontend (for example, a static\n",
       "  rendering on GitHub or <a href=\"https://nbviewer.jupyter.org/\">NBViewer</a>),\n",
       "  it may mean that your frontend doesn't currently support widgets.\n",
       "</p>\n"
      ],
      "text/plain": [
       "FloatProgress(value=0.0, description='Contest: ', max=561.0)"
      ]
     },
     "metadata": {},
     "output_type": "display_data"
    },
    {
     "name": "stdout",
     "output_type": "stream",
     "text": [
      "Performing 561 matches of 100 rounds each\n"
     ]
    }
   ],
   "source": [
    "generics = pandas.read_csv('generics.csv')\n",
    "run_matches(generics,100,'generics')"
   ]
  },
  {
   "cell_type": "code",
   "execution_count": 71,
   "metadata": {},
   "outputs": [
    {
     "name": "stdout",
     "output_type": "stream",
     "text": [
      "r=0.995347\n"
     ]
    },
    {
     "data": {
      "image/png": "[encoded data removed]",
      "text/plain": [
       "<matplotlib.figure.Figure at 0x111bc74a8>"
      ]
     },
     "metadata": {},
     "output_type": "display_data"
    }
   ],
   "source": [
    "plot_correl('generics_100.csv','hp',order=2)"
   ]
  },
  {
   "cell_type": "code",
   "execution_count": 93,
   "metadata": {},
   "outputs": [
    {
     "name": "stdout",
     "output_type": "stream",
     "text": [
      "r=0.962000\n"
     ]
    },
    {
     "data": {
      "image/png": "[encoded data removed]",
      "text/plain": [
       "<matplotlib.figure.Figure at 0x1a19242630>"
      ]
     },
     "metadata": {},
     "output_type": "display_data"
    }
   ],
   "source": [
    "plot_correl('generics_100.csv','cr')"
   ]
  },
  {
   "cell_type": "code",
   "execution_count": 68,
   "metadata": {},
   "outputs": [
    {
     "data": {
      "application/vnd.jupyter.widget-view+json": {
       "model_id": "e60eed8cfcc64e1ba1082677ffc16424",
       "version_major": 2,
       "version_minor": 0
      },
      "text/html": [
       "<p>Failed to display Jupyter Widget of type <code>FloatProgress</code>.</p>\n",
       "<p>\n",
       "  If you're reading this message in the Jupyter Notebook or JupyterLab Notebook, it may mean\n",
       "  that the widgets JavaScript is still loading. If this message persists, it\n",
       "  likely means that the widgets JavaScript library is either not installed or\n",
       "  not enabled. See the <a href=\"https://ipywidgets.readthedocs.io/en/stable/user_install.html\">Jupyter\n",
       "  Widgets Documentation</a> for setup instructions.\n",
       "</p>\n",
       "<p>\n",
       "  If you're reading this message in another frontend (for example, a static\n",
       "  rendering on GitHub or <a href=\"https://nbviewer.jupyter.org/\">NBViewer</a>),\n",
       "  it may mean that your frontend doesn't currently support widgets.\n",
       "</p>\n"
      ],
      "text/plain": [
       "FloatProgress(value=0.0, description='Contest: ', max=561.0)"
      ]
     },
     "metadata": {},
     "output_type": "display_data"
    },
    {
     "name": "stdout",
     "output_type": "stream",
     "text": [
      "Performing 561 matches of 100 rounds each\n"
     ]
    }
   ],
   "source": [
    "randoms = create_randoms(33)\n",
    "run_matches(randoms,100,'randoms')"
   ]
  },
  {
   "cell_type": "code",
   "execution_count": 76,
   "metadata": {},
   "outputs": [
    {
     "name": "stdout",
     "output_type": "stream",
     "text": [
      "r=0.486413\n"
     ]
    },
    {
     "data": {
      "image/png": "[encoded data removed]",
      "text/plain": [
       "<matplotlib.figure.Figure at 0x1124d8940>"
      ]
     },
     "metadata": {},
     "output_type": "display_data"
    }
   ],
   "source": [
    "plot_correl('randoms_100.csv','hp')"
   ]
  },
  {
   "cell_type": "code",
   "execution_count": 81,
   "metadata": {},
   "outputs": [
    {
     "name": "stdout",
     "output_type": "stream",
     "text": [
      "r=-0.066177\n"
     ]
    },
    {
     "data": {
      "image/png": "[encoded data removed]",
      "text/plain": [
       "<matplotlib.figure.Figure at 0x10e4ecf28>"
      ]
     },
     "metadata": {},
     "output_type": "display_data"
    }
   ],
   "source": [
    "plot_correl('randoms_100.csv','ac')"
   ]
  },
  {
   "cell_type": "code",
   "execution_count": 82,
   "metadata": {},
   "outputs": [
    {
     "name": "stdout",
     "output_type": "stream",
     "text": [
      "r=0.022501\n"
     ]
    },
    {
     "data": {
      "image/png": "[encoded data removed]",
      "text/plain": [
       "<matplotlib.figure.Figure at 0x1124b88d0>"
      ]
     },
     "metadata": {},
     "output_type": "display_data"
    }
   ],
   "source": [
    "plot_correl('randoms_100.csv','init')"
   ]
  },
  {
   "cell_type": "code",
   "execution_count": 83,
   "metadata": {},
   "outputs": [
    {
     "name": "stdout",
     "output_type": "stream",
     "text": [
      "r=0.125077\n"
     ]
    },
    {
     "data": {
      "image/png": "[encoded data removed]",
      "text/plain": [
       "<matplotlib.figure.Figure at 0x10e2d8ba8>"
      ]
     },
     "metadata": {},
     "output_type": "display_data"
    }
   ],
   "source": [
    "plot_correl('randoms_100.csv','hit_mod')"
   ]
  },
  {
   "cell_type": "code",
   "execution_count": 86,
   "metadata": {},
   "outputs": [
    {
     "name": "stdout",
     "output_type": "stream",
     "text": [
      "r=0.641841\n"
     ]
    },
    {
     "data": {
      "image/png": "[encoded data removed]",
      "text/plain": [
       "<matplotlib.figure.Figure at 0x112651a58>"
      ]
     },
     "metadata": {},
     "output_type": "display_data"
    }
   ],
   "source": [
    "randoms = pandas.read_csv('randoms_100.csv')\n",
    "randoms['dam_max'] = randoms['dam_avg'] * randoms['att_num']\n",
    "plot_correl_df(randoms,'dam_max')"
   ]
  },
  {
   "cell_type": "code",
   "execution_count": 87,
   "metadata": {},
   "outputs": [
    {
     "data": {
      "application/vnd.jupyter.widget-view+json": {
       "model_id": "58f9d928608f49fca0187691a9a5eb89",
       "version_major": 2,
       "version_minor": 0
      },
      "text/html": [
       "<p>Failed to display Jupyter Widget of type <code>FloatProgress</code>.</p>\n",
       "<p>\n",
       "  If you're reading this message in the Jupyter Notebook or JupyterLab Notebook, it may mean\n",
       "  that the widgets JavaScript is still loading. If this message persists, it\n",
       "  likely means that the widgets JavaScript library is either not installed or\n",
       "  not enabled. See the <a href=\"https://ipywidgets.readthedocs.io/en/stable/user_install.html\">Jupyter\n",
       "  Widgets Documentation</a> for setup instructions.\n",
       "</p>\n",
       "<p>\n",
       "  If you're reading this message in another frontend (for example, a static\n",
       "  rendering on GitHub or <a href=\"https://nbviewer.jupyter.org/\">NBViewer</a>),\n",
       "  it may mean that your frontend doesn't currently support widgets.\n",
       "</p>\n"
      ],
      "text/plain": [
       "FloatProgress(value=0.0, description='Contest: ', max=210.0)"
      ]
     },
     "metadata": {},
     "output_type": "display_data"
    },
    {
     "name": "stdout",
     "output_type": "stream",
     "text": [
      "Performing 210 matches of 100 rounds each\n"
     ]
    }
   ],
   "source": [
    "fighters = pandas.read_csv('fighters.csv')\n",
    "run_matches(fighters,100,'fighters')"
   ]
  },
  {
   "cell_type": "code",
   "execution_count": 134,
   "metadata": {},
   "outputs": [
    {
     "name": "stdout",
     "output_type": "stream",
     "text": [
      "r=0.994432\n"
     ]
    },
    {
     "data": {
      "image/png": "[encoded data removed]",
      "text/plain": [
       "<matplotlib.figure.Figure at 0x111b4ac50>"
      ]
     },
     "metadata": {},
     "output_type": "display_data"
    }
   ],
   "source": [
    "plot_correl('fighters_100.csv','hp')"
   ]
  },
  {
   "cell_type": "code",
   "execution_count": 135,
   "metadata": {},
   "outputs": [
    {
     "name": "stdout",
     "output_type": "stream",
     "text": [
      "r=0.967958\n"
     ]
    },
    {
     "data": {
      "image/png": "[encoded data removed]",
      "text/plain": [
       "<matplotlib.figure.Figure at 0x1124b8d30>"
      ]
     },
     "metadata": {},
     "output_type": "display_data"
    }
   ],
   "source": [
    "fighters = pandas.read_csv('fighters_100.csv')\n",
    "fighters['dam_max'] = fighters['dam_avg'] * fighters['att_num']\n",
    "plot_correl_df(fighters,'dam_max')"
   ]
  },
  {
   "cell_type": "code",
   "execution_count": 136,
   "metadata": {},
   "outputs": [
    {
     "data": {
      "application/vnd.jupyter.widget-view+json": {
       "model_id": "cdb176dbf0b043189f696c001fb758ee",
       "version_major": 2,
       "version_minor": 0
      },
      "text/html": [
       "<p>Failed to display Jupyter Widget of type <code>FloatProgress</code>.</p>\n",
       "<p>\n",
       "  If you're reading this message in the Jupyter Notebook or JupyterLab Notebook, it may mean\n",
       "  that the widgets JavaScript is still loading. If this message persists, it\n",
       "  likely means that the widgets JavaScript library is either not installed or\n",
       "  not enabled. See the <a href=\"https://ipywidgets.readthedocs.io/en/stable/user_install.html\">Jupyter\n",
       "  Widgets Documentation</a> for setup instructions.\n",
       "</p>\n",
       "<p>\n",
       "  If you're reading this message in another frontend (for example, a static\n",
       "  rendering on GitHub or <a href=\"https://nbviewer.jupyter.org/\">NBViewer</a>),\n",
       "  it may mean that your frontend doesn't currently support widgets.\n",
       "</p>\n"
      ],
      "text/plain": [
       "FloatProgress(value=0.0, description='Contest: ', max=1431.0)"
      ]
     },
     "metadata": {},
     "output_type": "display_data"
    },
    {
     "name": "stdout",
     "output_type": "stream",
     "text": [
      "Performing 1431 matches of 100 rounds each\n"
     ]
    }
   ],
   "source": [
    "fighters = pandas.read_csv('fighters.csv')\n",
    "generics = pandas.read_csv('generics.csv')\n",
    "mixed = generics.append(fighters)\n",
    "run_matches(mixed,100,'mixed')"
   ]
  },
  {
   "cell_type": "code",
   "execution_count": 154,
   "metadata": {},
   "outputs": [
    {
     "data": {
      "text/markdown": [
       "### Correlation between hp and wins"
      ],
      "text/plain": [
       "<IPython.core.display.Markdown object>"
      ]
     },
     "metadata": {},
     "output_type": "display_data"
    },
    {
     "data": {
      "text/markdown": [
       "r=0.460919"
      ],
      "text/plain": [
       "<IPython.core.display.Markdown object>"
      ]
     },
     "metadata": {},
     "output_type": "display_data"
    },
    {
     "data": {
      "image/png": "[encoded data removed]",
      "text/plain": [
       "<matplotlib.figure.Figure at 0x111824748>"
      ]
     },
     "metadata": {},
     "output_type": "display_data"
    }
   ],
   "source": [
    "plot_correl('mixed_100.csv','hp')"
   ]
  },
  {
   "cell_type": "code",
   "execution_count": 155,
   "metadata": {},
   "outputs": [
    {
     "data": {
      "text/markdown": [
       "### Correlation between dam_max and wins"
      ],
      "text/plain": [
       "<IPython.core.display.Markdown object>"
      ]
     },
     "metadata": {},
     "output_type": "display_data"
    },
    {
     "data": {
      "text/markdown": [
       "r=0.389937"
      ],
      "text/plain": [
       "<IPython.core.display.Markdown object>"
      ]
     },
     "metadata": {},
     "output_type": "display_data"
    },
    {
     "data": {
      "image/png": "[encoded data removed]",
      "text/plain": [
       "<matplotlib.figure.Figure at 0x1124b8240>"
      ]
     },
     "metadata": {},
     "output_type": "display_data"
    }
   ],
   "source": [
    "mixed = pandas.read_csv('mixed_100.csv')\n",
    "mixed['dam_max'] = mixed['dam_avg'] * mixed['att_num']\n",
    "plot_correl_df(mixed,'dam_max')"
   ]
  },
  {
   "cell_type": "code",
   "execution_count": 156,
   "metadata": {},
   "outputs": [
    {
     "data": {
      "text/html": [
       "<div>\n",
       "<style scoped>\n",
       "    .dataframe tbody tr th:only-of-type {\n",
       "        vertical-align: middle;\n",
       "    }\n",
       "\n",
       "    .dataframe tbody tr th {\n",
       "        vertical-align: top;\n",
       "    }\n",
       "\n",
       "    .dataframe thead th {\n",
       "        text-align: right;\n",
       "    }\n",
       "</style>\n",
       "<table border=\"1\" class=\"dataframe\">\n",
       "  <thead>\n",
       "    <tr style=\"text-align: right;\">\n",
       "      <th></th>\n",
       "      <th>Unnamed: 0</th>\n",
       "      <th>name</th>\n",
       "      <th>cr</th>\n",
       "      <th>ac</th>\n",
       "      <th>hp</th>\n",
       "      <th>init</th>\n",
       "      <th>att_num</th>\n",
       "      <th>hit_mod</th>\n",
       "      <th>dam_avg</th>\n",
       "      <th>pair_wins</th>\n",
       "      <th>total_wins</th>\n",
       "      <th>dam_max</th>\n",
       "      <th>percent_wins</th>\n",
       "      <th>percent_dam_max</th>\n",
       "    </tr>\n",
       "  </thead>\n",
       "  <tbody>\n",
       "    <tr>\n",
       "      <th>52</th>\n",
       "      <td>19</td>\n",
       "      <td>Fighter 20</td>\n",
       "      <td>5.000</td>\n",
       "      <td>21</td>\n",
       "      <td>186</td>\n",
       "      <td>2</td>\n",
       "      <td>4</td>\n",
       "      <td>10</td>\n",
       "      <td>9</td>\n",
       "      <td>70.0</td>\n",
       "      <td>7024.0</td>\n",
       "      <td>36</td>\n",
       "      <td>1.346154</td>\n",
       "      <td>0.118033</td>\n",
       "    </tr>\n",
       "    <tr>\n",
       "      <th>19</th>\n",
       "      <td>19</td>\n",
       "      <td>CR 17</td>\n",
       "      <td>17.000</td>\n",
       "      <td>19</td>\n",
       "      <td>315</td>\n",
       "      <td>0</td>\n",
       "      <td>4</td>\n",
       "      <td>10</td>\n",
       "      <td>26</td>\n",
       "      <td>70.0</td>\n",
       "      <td>7024.0</td>\n",
       "      <td>104</td>\n",
       "      <td>1.346154</td>\n",
       "      <td>0.340984</td>\n",
       "    </tr>\n",
       "    <tr>\n",
       "      <th>51</th>\n",
       "      <td>18</td>\n",
       "      <td>Fighter 19</td>\n",
       "      <td>4.750</td>\n",
       "      <td>21</td>\n",
       "      <td>176</td>\n",
       "      <td>2</td>\n",
       "      <td>3</td>\n",
       "      <td>10</td>\n",
       "      <td>9</td>\n",
       "      <td>66.0</td>\n",
       "      <td>6550.0</td>\n",
       "      <td>27</td>\n",
       "      <td>1.269231</td>\n",
       "      <td>0.088525</td>\n",
       "    </tr>\n",
       "    <tr>\n",
       "      <th>49</th>\n",
       "      <td>16</td>\n",
       "      <td>Fighter 17</td>\n",
       "      <td>4.250</td>\n",
       "      <td>21</td>\n",
       "      <td>156</td>\n",
       "      <td>2</td>\n",
       "      <td>4</td>\n",
       "      <td>10</td>\n",
       "      <td>9</td>\n",
       "      <td>66.0</td>\n",
       "      <td>6574.0</td>\n",
       "      <td>36</td>\n",
       "      <td>1.269231</td>\n",
       "      <td>0.118033</td>\n",
       "    </tr>\n",
       "    <tr>\n",
       "      <th>18</th>\n",
       "      <td>18</td>\n",
       "      <td>CR 16</td>\n",
       "      <td>16.000</td>\n",
       "      <td>18</td>\n",
       "      <td>300</td>\n",
       "      <td>0</td>\n",
       "      <td>4</td>\n",
       "      <td>9</td>\n",
       "      <td>25</td>\n",
       "      <td>66.0</td>\n",
       "      <td>6550.0</td>\n",
       "      <td>100</td>\n",
       "      <td>1.269231</td>\n",
       "      <td>0.327869</td>\n",
       "    </tr>\n",
       "    <tr>\n",
       "      <th>16</th>\n",
       "      <td>16</td>\n",
       "      <td>CR 14</td>\n",
       "      <td>14.000</td>\n",
       "      <td>18</td>\n",
       "      <td>270</td>\n",
       "      <td>0</td>\n",
       "      <td>3</td>\n",
       "      <td>8</td>\n",
       "      <td>30</td>\n",
       "      <td>66.0</td>\n",
       "      <td>6574.0</td>\n",
       "      <td>90</td>\n",
       "      <td>1.269231</td>\n",
       "      <td>0.295082</td>\n",
       "    </tr>\n",
       "    <tr>\n",
       "      <th>50</th>\n",
       "      <td>17</td>\n",
       "      <td>Fighter 18</td>\n",
       "      <td>4.500</td>\n",
       "      <td>21</td>\n",
       "      <td>166</td>\n",
       "      <td>2</td>\n",
       "      <td>3</td>\n",
       "      <td>10</td>\n",
       "      <td>9</td>\n",
       "      <td>63.0</td>\n",
       "      <td>6374.0</td>\n",
       "      <td>27</td>\n",
       "      <td>1.211538</td>\n",
       "      <td>0.088525</td>\n",
       "    </tr>\n",
       "    <tr>\n",
       "      <th>17</th>\n",
       "      <td>17</td>\n",
       "      <td>CR 15</td>\n",
       "      <td>15.000</td>\n",
       "      <td>18</td>\n",
       "      <td>285</td>\n",
       "      <td>0</td>\n",
       "      <td>3</td>\n",
       "      <td>8</td>\n",
       "      <td>32</td>\n",
       "      <td>63.0</td>\n",
       "      <td>6374.0</td>\n",
       "      <td>96</td>\n",
       "      <td>1.211538</td>\n",
       "      <td>0.314754</td>\n",
       "    </tr>\n",
       "    <tr>\n",
       "      <th>48</th>\n",
       "      <td>15</td>\n",
       "      <td>Fighter 16</td>\n",
       "      <td>4.000</td>\n",
       "      <td>21</td>\n",
       "      <td>146</td>\n",
       "      <td>2</td>\n",
       "      <td>3</td>\n",
       "      <td>9</td>\n",
       "      <td>9</td>\n",
       "      <td>60.0</td>\n",
       "      <td>6041.0</td>\n",
       "      <td>27</td>\n",
       "      <td>1.153846</td>\n",
       "      <td>0.088525</td>\n",
       "    </tr>\n",
       "    <tr>\n",
       "      <th>15</th>\n",
       "      <td>15</td>\n",
       "      <td>CR 13</td>\n",
       "      <td>13.000</td>\n",
       "      <td>18</td>\n",
       "      <td>255</td>\n",
       "      <td>0</td>\n",
       "      <td>3</td>\n",
       "      <td>8</td>\n",
       "      <td>28</td>\n",
       "      <td>60.0</td>\n",
       "      <td>6041.0</td>\n",
       "      <td>84</td>\n",
       "      <td>1.153846</td>\n",
       "      <td>0.275410</td>\n",
       "    </tr>\n",
       "    <tr>\n",
       "      <th>14</th>\n",
       "      <td>14</td>\n",
       "      <td>CR 12</td>\n",
       "      <td>12.000</td>\n",
       "      <td>17</td>\n",
       "      <td>240</td>\n",
       "      <td>0</td>\n",
       "      <td>3</td>\n",
       "      <td>8</td>\n",
       "      <td>25</td>\n",
       "      <td>58.0</td>\n",
       "      <td>5665.0</td>\n",
       "      <td>75</td>\n",
       "      <td>1.115385</td>\n",
       "      <td>0.245902</td>\n",
       "    </tr>\n",
       "    <tr>\n",
       "      <th>47</th>\n",
       "      <td>14</td>\n",
       "      <td>Fighter 15</td>\n",
       "      <td>3.750</td>\n",
       "      <td>20</td>\n",
       "      <td>136</td>\n",
       "      <td>2</td>\n",
       "      <td>3</td>\n",
       "      <td>9</td>\n",
       "      <td>9</td>\n",
       "      <td>58.0</td>\n",
       "      <td>5665.0</td>\n",
       "      <td>27</td>\n",
       "      <td>1.115385</td>\n",
       "      <td>0.088525</td>\n",
       "    </tr>\n",
       "    <tr>\n",
       "      <th>46</th>\n",
       "      <td>13</td>\n",
       "      <td>Fighter 14</td>\n",
       "      <td>3.500</td>\n",
       "      <td>20</td>\n",
       "      <td>126</td>\n",
       "      <td>2</td>\n",
       "      <td>3</td>\n",
       "      <td>9</td>\n",
       "      <td>9</td>\n",
       "      <td>55.0</td>\n",
       "      <td>5488.0</td>\n",
       "      <td>27</td>\n",
       "      <td>1.057692</td>\n",
       "      <td>0.088525</td>\n",
       "    </tr>\n",
       "    <tr>\n",
       "      <th>13</th>\n",
       "      <td>13</td>\n",
       "      <td>CR 11</td>\n",
       "      <td>11.000</td>\n",
       "      <td>17</td>\n",
       "      <td>225</td>\n",
       "      <td>0</td>\n",
       "      <td>3</td>\n",
       "      <td>8</td>\n",
       "      <td>23</td>\n",
       "      <td>55.0</td>\n",
       "      <td>5488.0</td>\n",
       "      <td>69</td>\n",
       "      <td>1.057692</td>\n",
       "      <td>0.226230</td>\n",
       "    </tr>\n",
       "    <tr>\n",
       "      <th>12</th>\n",
       "      <td>12</td>\n",
       "      <td>CR 10</td>\n",
       "      <td>10.000</td>\n",
       "      <td>17</td>\n",
       "      <td>210</td>\n",
       "      <td>0</td>\n",
       "      <td>2</td>\n",
       "      <td>7</td>\n",
       "      <td>33</td>\n",
       "      <td>52.0</td>\n",
       "      <td>5170.0</td>\n",
       "      <td>66</td>\n",
       "      <td>1.000000</td>\n",
       "      <td>0.216393</td>\n",
       "    </tr>\n",
       "    <tr>\n",
       "      <th>32</th>\n",
       "      <td>32</td>\n",
       "      <td>CR 30</td>\n",
       "      <td>30.000</td>\n",
       "      <td>19</td>\n",
       "      <td>810</td>\n",
       "      <td>0</td>\n",
       "      <td>5</td>\n",
       "      <td>14</td>\n",
       "      <td>61</td>\n",
       "      <td>52.0</td>\n",
       "      <td>5162.0</td>\n",
       "      <td>305</td>\n",
       "      <td>1.000000</td>\n",
       "      <td>1.000000</td>\n",
       "    </tr>\n",
       "    <tr>\n",
       "      <th>45</th>\n",
       "      <td>12</td>\n",
       "      <td>Fighter 13</td>\n",
       "      <td>3.250</td>\n",
       "      <td>20</td>\n",
       "      <td>116</td>\n",
       "      <td>2</td>\n",
       "      <td>3</td>\n",
       "      <td>9</td>\n",
       "      <td>8</td>\n",
       "      <td>52.0</td>\n",
       "      <td>5170.0</td>\n",
       "      <td>24</td>\n",
       "      <td>1.000000</td>\n",
       "      <td>0.078689</td>\n",
       "    </tr>\n",
       "    <tr>\n",
       "      <th>31</th>\n",
       "      <td>31</td>\n",
       "      <td>CR 29</td>\n",
       "      <td>29.000</td>\n",
       "      <td>19</td>\n",
       "      <td>765</td>\n",
       "      <td>0</td>\n",
       "      <td>5</td>\n",
       "      <td>13</td>\n",
       "      <td>57</td>\n",
       "      <td>51.0</td>\n",
       "      <td>5073.0</td>\n",
       "      <td>285</td>\n",
       "      <td>0.980769</td>\n",
       "      <td>0.934426</td>\n",
       "    </tr>\n",
       "    <tr>\n",
       "      <th>30</th>\n",
       "      <td>30</td>\n",
       "      <td>CR 28</td>\n",
       "      <td>28.000</td>\n",
       "      <td>19</td>\n",
       "      <td>720</td>\n",
       "      <td>0</td>\n",
       "      <td>5</td>\n",
       "      <td>13</td>\n",
       "      <td>54</td>\n",
       "      <td>50.0</td>\n",
       "      <td>5003.0</td>\n",
       "      <td>270</td>\n",
       "      <td>0.961538</td>\n",
       "      <td>0.885246</td>\n",
       "    </tr>\n",
       "    <tr>\n",
       "      <th>29</th>\n",
       "      <td>29</td>\n",
       "      <td>CR 27</td>\n",
       "      <td>27.000</td>\n",
       "      <td>19</td>\n",
       "      <td>675</td>\n",
       "      <td>0</td>\n",
       "      <td>5</td>\n",
       "      <td>13</td>\n",
       "      <td>50</td>\n",
       "      <td>49.0</td>\n",
       "      <td>4915.0</td>\n",
       "      <td>250</td>\n",
       "      <td>0.942308</td>\n",
       "      <td>0.819672</td>\n",
       "    </tr>\n",
       "    <tr>\n",
       "      <th>11</th>\n",
       "      <td>11</td>\n",
       "      <td>CR 9</td>\n",
       "      <td>9.000</td>\n",
       "      <td>16</td>\n",
       "      <td>195</td>\n",
       "      <td>0</td>\n",
       "      <td>2</td>\n",
       "      <td>7</td>\n",
       "      <td>30</td>\n",
       "      <td>48.0</td>\n",
       "      <td>4804.0</td>\n",
       "      <td>60</td>\n",
       "      <td>0.923077</td>\n",
       "      <td>0.196721</td>\n",
       "    </tr>\n",
       "    <tr>\n",
       "      <th>44</th>\n",
       "      <td>11</td>\n",
       "      <td>Fighter 12</td>\n",
       "      <td>3.000</td>\n",
       "      <td>20</td>\n",
       "      <td>107</td>\n",
       "      <td>2</td>\n",
       "      <td>3</td>\n",
       "      <td>8</td>\n",
       "      <td>8</td>\n",
       "      <td>48.0</td>\n",
       "      <td>4804.0</td>\n",
       "      <td>24</td>\n",
       "      <td>0.923077</td>\n",
       "      <td>0.078689</td>\n",
       "    </tr>\n",
       "    <tr>\n",
       "      <th>28</th>\n",
       "      <td>28</td>\n",
       "      <td>CR 26</td>\n",
       "      <td>26.000</td>\n",
       "      <td>19</td>\n",
       "      <td>630</td>\n",
       "      <td>0</td>\n",
       "      <td>5</td>\n",
       "      <td>12</td>\n",
       "      <td>47</td>\n",
       "      <td>48.0</td>\n",
       "      <td>4792.0</td>\n",
       "      <td>235</td>\n",
       "      <td>0.923077</td>\n",
       "      <td>0.770492</td>\n",
       "    </tr>\n",
       "    <tr>\n",
       "      <th>27</th>\n",
       "      <td>27</td>\n",
       "      <td>CR 25</td>\n",
       "      <td>25.000</td>\n",
       "      <td>19</td>\n",
       "      <td>585</td>\n",
       "      <td>0</td>\n",
       "      <td>5</td>\n",
       "      <td>12</td>\n",
       "      <td>43</td>\n",
       "      <td>47.0</td>\n",
       "      <td>4704.0</td>\n",
       "      <td>215</td>\n",
       "      <td>0.903846</td>\n",
       "      <td>0.704918</td>\n",
       "    </tr>\n",
       "    <tr>\n",
       "      <th>26</th>\n",
       "      <td>26</td>\n",
       "      <td>CR 24</td>\n",
       "      <td>24.000</td>\n",
       "      <td>19</td>\n",
       "      <td>540</td>\n",
       "      <td>0</td>\n",
       "      <td>5</td>\n",
       "      <td>12</td>\n",
       "      <td>39</td>\n",
       "      <td>46.0</td>\n",
       "      <td>4619.0</td>\n",
       "      <td>195</td>\n",
       "      <td>0.884615</td>\n",
       "      <td>0.639344</td>\n",
       "    </tr>\n",
       "    <tr>\n",
       "      <th>25</th>\n",
       "      <td>25</td>\n",
       "      <td>CR 23</td>\n",
       "      <td>23.000</td>\n",
       "      <td>19</td>\n",
       "      <td>500</td>\n",
       "      <td>0</td>\n",
       "      <td>5</td>\n",
       "      <td>11</td>\n",
       "      <td>36</td>\n",
       "      <td>45.0</td>\n",
       "      <td>4498.0</td>\n",
       "      <td>180</td>\n",
       "      <td>0.865385</td>\n",
       "      <td>0.590164</td>\n",
       "    </tr>\n",
       "    <tr>\n",
       "      <th>24</th>\n",
       "      <td>24</td>\n",
       "      <td>CR 22</td>\n",
       "      <td>22.000</td>\n",
       "      <td>19</td>\n",
       "      <td>450</td>\n",
       "      <td>0</td>\n",
       "      <td>5</td>\n",
       "      <td>11</td>\n",
       "      <td>32</td>\n",
       "      <td>44.0</td>\n",
       "      <td>4403.0</td>\n",
       "      <td>160</td>\n",
       "      <td>0.846154</td>\n",
       "      <td>0.524590</td>\n",
       "    </tr>\n",
       "    <tr>\n",
       "      <th>10</th>\n",
       "      <td>10</td>\n",
       "      <td>CR 8</td>\n",
       "      <td>8.000</td>\n",
       "      <td>16</td>\n",
       "      <td>180</td>\n",
       "      <td>0</td>\n",
       "      <td>2</td>\n",
       "      <td>7</td>\n",
       "      <td>28</td>\n",
       "      <td>44.0</td>\n",
       "      <td>4559.0</td>\n",
       "      <td>56</td>\n",
       "      <td>0.846154</td>\n",
       "      <td>0.183607</td>\n",
       "    </tr>\n",
       "    <tr>\n",
       "      <th>43</th>\n",
       "      <td>10</td>\n",
       "      <td>Fighter 11</td>\n",
       "      <td>2.750</td>\n",
       "      <td>20</td>\n",
       "      <td>98</td>\n",
       "      <td>2</td>\n",
       "      <td>3</td>\n",
       "      <td>8</td>\n",
       "      <td>8</td>\n",
       "      <td>44.0</td>\n",
       "      <td>4559.0</td>\n",
       "      <td>24</td>\n",
       "      <td>0.846154</td>\n",
       "      <td>0.078689</td>\n",
       "    </tr>\n",
       "    <tr>\n",
       "      <th>23</th>\n",
       "      <td>23</td>\n",
       "      <td>CR 21</td>\n",
       "      <td>21.000</td>\n",
       "      <td>19</td>\n",
       "      <td>405</td>\n",
       "      <td>0</td>\n",
       "      <td>5</td>\n",
       "      <td>11</td>\n",
       "      <td>29</td>\n",
       "      <td>43.0</td>\n",
       "      <td>4300.0</td>\n",
       "      <td>145</td>\n",
       "      <td>0.826923</td>\n",
       "      <td>0.475410</td>\n",
       "    </tr>\n",
       "    <tr>\n",
       "      <th>22</th>\n",
       "      <td>22</td>\n",
       "      <td>CR 20</td>\n",
       "      <td>20.000</td>\n",
       "      <td>19</td>\n",
       "      <td>360</td>\n",
       "      <td>0</td>\n",
       "      <td>4</td>\n",
       "      <td>10</td>\n",
       "      <td>31</td>\n",
       "      <td>42.0</td>\n",
       "      <td>4112.0</td>\n",
       "      <td>124</td>\n",
       "      <td>0.807692</td>\n",
       "      <td>0.406557</td>\n",
       "    </tr>\n",
       "    <tr>\n",
       "      <th>21</th>\n",
       "      <td>21</td>\n",
       "      <td>CR 19</td>\n",
       "      <td>19.000</td>\n",
       "      <td>19</td>\n",
       "      <td>345</td>\n",
       "      <td>0</td>\n",
       "      <td>4</td>\n",
       "      <td>10</td>\n",
       "      <td>30</td>\n",
       "      <td>41.0</td>\n",
       "      <td>4097.0</td>\n",
       "      <td>120</td>\n",
       "      <td>0.788462</td>\n",
       "      <td>0.393443</td>\n",
       "    </tr>\n",
       "    <tr>\n",
       "      <th>20</th>\n",
       "      <td>20</td>\n",
       "      <td>CR 18</td>\n",
       "      <td>18.000</td>\n",
       "      <td>19</td>\n",
       "      <td>330</td>\n",
       "      <td>0</td>\n",
       "      <td>4</td>\n",
       "      <td>10</td>\n",
       "      <td>29</td>\n",
       "      <td>40.0</td>\n",
       "      <td>4045.0</td>\n",
       "      <td>116</td>\n",
       "      <td>0.769231</td>\n",
       "      <td>0.380328</td>\n",
       "    </tr>\n",
       "    <tr>\n",
       "      <th>9</th>\n",
       "      <td>9</td>\n",
       "      <td>CR 7</td>\n",
       "      <td>7.000</td>\n",
       "      <td>15</td>\n",
       "      <td>165</td>\n",
       "      <td>0</td>\n",
       "      <td>2</td>\n",
       "      <td>6</td>\n",
       "      <td>23</td>\n",
       "      <td>38.0</td>\n",
       "      <td>3721.0</td>\n",
       "      <td>46</td>\n",
       "      <td>0.730769</td>\n",
       "      <td>0.150820</td>\n",
       "    </tr>\n",
       "    <tr>\n",
       "      <th>42</th>\n",
       "      <td>9</td>\n",
       "      <td>Fighter 10</td>\n",
       "      <td>2.500</td>\n",
       "      <td>19</td>\n",
       "      <td>89</td>\n",
       "      <td>2</td>\n",
       "      <td>2</td>\n",
       "      <td>8</td>\n",
       "      <td>8</td>\n",
       "      <td>38.0</td>\n",
       "      <td>3721.0</td>\n",
       "      <td>16</td>\n",
       "      <td>0.730769</td>\n",
       "      <td>0.052459</td>\n",
       "    </tr>\n",
       "    <tr>\n",
       "      <th>8</th>\n",
       "      <td>8</td>\n",
       "      <td>CR 6</td>\n",
       "      <td>6.000</td>\n",
       "      <td>15</td>\n",
       "      <td>150</td>\n",
       "      <td>0</td>\n",
       "      <td>2</td>\n",
       "      <td>6</td>\n",
       "      <td>20</td>\n",
       "      <td>35.0</td>\n",
       "      <td>3408.0</td>\n",
       "      <td>40</td>\n",
       "      <td>0.673077</td>\n",
       "      <td>0.131148</td>\n",
       "    </tr>\n",
       "    <tr>\n",
       "      <th>41</th>\n",
       "      <td>8</td>\n",
       "      <td>Fighter 9</td>\n",
       "      <td>2.250</td>\n",
       "      <td>19</td>\n",
       "      <td>80</td>\n",
       "      <td>2</td>\n",
       "      <td>2</td>\n",
       "      <td>8</td>\n",
       "      <td>8</td>\n",
       "      <td>35.0</td>\n",
       "      <td>3408.0</td>\n",
       "      <td>16</td>\n",
       "      <td>0.673077</td>\n",
       "      <td>0.052459</td>\n",
       "    </tr>\n",
       "    <tr>\n",
       "      <th>40</th>\n",
       "      <td>7</td>\n",
       "      <td>Fighter 8</td>\n",
       "      <td>2.000</td>\n",
       "      <td>19</td>\n",
       "      <td>71</td>\n",
       "      <td>2</td>\n",
       "      <td>2</td>\n",
       "      <td>7</td>\n",
       "      <td>8</td>\n",
       "      <td>30.0</td>\n",
       "      <td>3078.0</td>\n",
       "      <td>16</td>\n",
       "      <td>0.576923</td>\n",
       "      <td>0.052459</td>\n",
       "    </tr>\n",
       "    <tr>\n",
       "      <th>7</th>\n",
       "      <td>7</td>\n",
       "      <td>CR 5</td>\n",
       "      <td>5.000</td>\n",
       "      <td>15</td>\n",
       "      <td>135</td>\n",
       "      <td>0</td>\n",
       "      <td>1</td>\n",
       "      <td>6</td>\n",
       "      <td>35</td>\n",
       "      <td>30.0</td>\n",
       "      <td>3078.0</td>\n",
       "      <td>35</td>\n",
       "      <td>0.576923</td>\n",
       "      <td>0.114754</td>\n",
       "    </tr>\n",
       "    <tr>\n",
       "      <th>6</th>\n",
       "      <td>6</td>\n",
       "      <td>CR 4</td>\n",
       "      <td>4.000</td>\n",
       "      <td>14</td>\n",
       "      <td>120</td>\n",
       "      <td>0</td>\n",
       "      <td>1</td>\n",
       "      <td>5</td>\n",
       "      <td>30</td>\n",
       "      <td>27.0</td>\n",
       "      <td>2733.0</td>\n",
       "      <td>30</td>\n",
       "      <td>0.519231</td>\n",
       "      <td>0.098361</td>\n",
       "    </tr>\n",
       "    <tr>\n",
       "      <th>39</th>\n",
       "      <td>6</td>\n",
       "      <td>Fighter 7</td>\n",
       "      <td>1.750</td>\n",
       "      <td>19</td>\n",
       "      <td>62</td>\n",
       "      <td>2</td>\n",
       "      <td>2</td>\n",
       "      <td>7</td>\n",
       "      <td>8</td>\n",
       "      <td>27.0</td>\n",
       "      <td>2733.0</td>\n",
       "      <td>16</td>\n",
       "      <td>0.519231</td>\n",
       "      <td>0.052459</td>\n",
       "    </tr>\n",
       "    <tr>\n",
       "      <th>38</th>\n",
       "      <td>5</td>\n",
       "      <td>Fighter 6</td>\n",
       "      <td>1.500</td>\n",
       "      <td>19</td>\n",
       "      <td>53</td>\n",
       "      <td>2</td>\n",
       "      <td>2</td>\n",
       "      <td>7</td>\n",
       "      <td>8</td>\n",
       "      <td>23.0</td>\n",
       "      <td>2335.0</td>\n",
       "      <td>16</td>\n",
       "      <td>0.442308</td>\n",
       "      <td>0.052459</td>\n",
       "    </tr>\n",
       "    <tr>\n",
       "      <th>5</th>\n",
       "      <td>5</td>\n",
       "      <td>CR 3</td>\n",
       "      <td>3.000</td>\n",
       "      <td>13</td>\n",
       "      <td>105</td>\n",
       "      <td>0</td>\n",
       "      <td>1</td>\n",
       "      <td>4</td>\n",
       "      <td>25</td>\n",
       "      <td>23.0</td>\n",
       "      <td>2335.0</td>\n",
       "      <td>25</td>\n",
       "      <td>0.442308</td>\n",
       "      <td>0.081967</td>\n",
       "    </tr>\n",
       "    <tr>\n",
       "      <th>37</th>\n",
       "      <td>4</td>\n",
       "      <td>Fighter 5</td>\n",
       "      <td>1.250</td>\n",
       "      <td>18</td>\n",
       "      <td>44</td>\n",
       "      <td>2</td>\n",
       "      <td>2</td>\n",
       "      <td>6</td>\n",
       "      <td>7</td>\n",
       "      <td>17.0</td>\n",
       "      <td>1718.0</td>\n",
       "      <td>14</td>\n",
       "      <td>0.326923</td>\n",
       "      <td>0.045902</td>\n",
       "    </tr>\n",
       "    <tr>\n",
       "      <th>4</th>\n",
       "      <td>4</td>\n",
       "      <td>CR 2</td>\n",
       "      <td>2.000</td>\n",
       "      <td>13</td>\n",
       "      <td>90</td>\n",
       "      <td>0</td>\n",
       "      <td>1</td>\n",
       "      <td>3</td>\n",
       "      <td>15</td>\n",
       "      <td>17.0</td>\n",
       "      <td>1718.0</td>\n",
       "      <td>15</td>\n",
       "      <td>0.326923</td>\n",
       "      <td>0.049180</td>\n",
       "    </tr>\n",
       "    <tr>\n",
       "      <th>36</th>\n",
       "      <td>3</td>\n",
       "      <td>Fighter 4</td>\n",
       "      <td>1.000</td>\n",
       "      <td>18</td>\n",
       "      <td>36</td>\n",
       "      <td>2</td>\n",
       "      <td>1</td>\n",
       "      <td>5</td>\n",
       "      <td>7</td>\n",
       "      <td>13.0</td>\n",
       "      <td>1251.0</td>\n",
       "      <td>7</td>\n",
       "      <td>0.250000</td>\n",
       "      <td>0.022951</td>\n",
       "    </tr>\n",
       "    <tr>\n",
       "      <th>3</th>\n",
       "      <td>3</td>\n",
       "      <td>CR 1</td>\n",
       "      <td>1.000</td>\n",
       "      <td>13</td>\n",
       "      <td>75</td>\n",
       "      <td>0</td>\n",
       "      <td>1</td>\n",
       "      <td>3</td>\n",
       "      <td>12</td>\n",
       "      <td>13.0</td>\n",
       "      <td>1251.0</td>\n",
       "      <td>12</td>\n",
       "      <td>0.250000</td>\n",
       "      <td>0.039344</td>\n",
       "    </tr>\n",
       "    <tr>\n",
       "      <th>35</th>\n",
       "      <td>2</td>\n",
       "      <td>Fighter 3</td>\n",
       "      <td>0.750</td>\n",
       "      <td>18</td>\n",
       "      <td>28</td>\n",
       "      <td>2</td>\n",
       "      <td>1</td>\n",
       "      <td>5</td>\n",
       "      <td>7</td>\n",
       "      <td>9.0</td>\n",
       "      <td>872.0</td>\n",
       "      <td>7</td>\n",
       "      <td>0.173077</td>\n",
       "      <td>0.022951</td>\n",
       "    </tr>\n",
       "    <tr>\n",
       "      <th>2</th>\n",
       "      <td>2</td>\n",
       "      <td>CR 1/2</td>\n",
       "      <td>0.500</td>\n",
       "      <td>13</td>\n",
       "      <td>50</td>\n",
       "      <td>0</td>\n",
       "      <td>1</td>\n",
       "      <td>3</td>\n",
       "      <td>8</td>\n",
       "      <td>9.0</td>\n",
       "      <td>872.0</td>\n",
       "      <td>8</td>\n",
       "      <td>0.173077</td>\n",
       "      <td>0.026230</td>\n",
       "    </tr>\n",
       "    <tr>\n",
       "      <th>1</th>\n",
       "      <td>1</td>\n",
       "      <td>CR 1/4</td>\n",
       "      <td>0.250</td>\n",
       "      <td>13</td>\n",
       "      <td>40</td>\n",
       "      <td>0</td>\n",
       "      <td>1</td>\n",
       "      <td>3</td>\n",
       "      <td>5</td>\n",
       "      <td>4.0</td>\n",
       "      <td>500.0</td>\n",
       "      <td>5</td>\n",
       "      <td>0.076923</td>\n",
       "      <td>0.016393</td>\n",
       "    </tr>\n",
       "    <tr>\n",
       "      <th>34</th>\n",
       "      <td>1</td>\n",
       "      <td>Fighter 2</td>\n",
       "      <td>0.500</td>\n",
       "      <td>18</td>\n",
       "      <td>20</td>\n",
       "      <td>2</td>\n",
       "      <td>1</td>\n",
       "      <td>5</td>\n",
       "      <td>7</td>\n",
       "      <td>4.0</td>\n",
       "      <td>500.0</td>\n",
       "      <td>7</td>\n",
       "      <td>0.076923</td>\n",
       "      <td>0.022951</td>\n",
       "    </tr>\n",
       "    <tr>\n",
       "      <th>33</th>\n",
       "      <td>0</td>\n",
       "      <td>Fighter 1</td>\n",
       "      <td>0.250</td>\n",
       "      <td>18</td>\n",
       "      <td>12</td>\n",
       "      <td>2</td>\n",
       "      <td>1</td>\n",
       "      <td>5</td>\n",
       "      <td>7</td>\n",
       "      <td>2.0</td>\n",
       "      <td>212.0</td>\n",
       "      <td>7</td>\n",
       "      <td>0.038462</td>\n",
       "      <td>0.022951</td>\n",
       "    </tr>\n",
       "    <tr>\n",
       "      <th>0</th>\n",
       "      <td>0</td>\n",
       "      <td>CR 1/8</td>\n",
       "      <td>0.125</td>\n",
       "      <td>13</td>\n",
       "      <td>10</td>\n",
       "      <td>0</td>\n",
       "      <td>1</td>\n",
       "      <td>3</td>\n",
       "      <td>2</td>\n",
       "      <td>2.0</td>\n",
       "      <td>212.0</td>\n",
       "      <td>2</td>\n",
       "      <td>0.038462</td>\n",
       "      <td>0.006557</td>\n",
       "    </tr>\n",
       "  </tbody>\n",
       "</table>\n",
       "</div>"
      ],
      "text/plain": [
       "    Unnamed: 0        name      cr  ac   hp  init  att_num  hit_mod  dam_avg  \\\n",
       "52          19  Fighter 20   5.000  21  186     2        4       10        9   \n",
       "19          19       CR 17  17.000  19  315     0        4       10       26   \n",
       "51          18  Fighter 19   4.750  21  176     2        3       10        9   \n",
       "49          16  Fighter 17   4.250  21  156     2        4       10        9   \n",
       "18          18       CR 16  16.000  18  300     0        4        9       25   \n",
       "16          16       CR 14  14.000  18  270     0        3        8       30   \n",
       "50          17  Fighter 18   4.500  21  166     2        3       10        9   \n",
       "17          17       CR 15  15.000  18  285     0        3        8       32   \n",
       "48          15  Fighter 16   4.000  21  146     2        3        9        9   \n",
       "15          15       CR 13  13.000  18  255     0        3        8       28   \n",
       "14          14       CR 12  12.000  17  240     0        3        8       25   \n",
       "47          14  Fighter 15   3.750  20  136     2        3        9        9   \n",
       "46          13  Fighter 14   3.500  20  126     2        3        9        9   \n",
       "13          13       CR 11  11.000  17  225     0        3        8       23   \n",
       "12          12       CR 10  10.000  17  210     0        2        7       33   \n",
       "32          32       CR 30  30.000  19  810     0        5       14       61   \n",
       "45          12  Fighter 13   3.250  20  116     2        3        9        8   \n",
       "31          31       CR 29  29.000  19  765     0        5       13       57   \n",
       "30          30       CR 28  28.000  19  720     0        5       13       54   \n",
       "29          29       CR 27  27.000  19  675     0        5       13       50   \n",
       "11          11        CR 9   9.000  16  195     0        2        7       30   \n",
       "44          11  Fighter 12   3.000  20  107     2        3        8        8   \n",
       "28          28       CR 26  26.000  19  630     0        5       12       47   \n",
       "27          27       CR 25  25.000  19  585     0        5       12       43   \n",
       "26          26       CR 24  24.000  19  540     0        5       12       39   \n",
       "25          25       CR 23  23.000  19  500     0        5       11       36   \n",
       "24          24       CR 22  22.000  19  450     0        5       11       32   \n",
       "10          10        CR 8   8.000  16  180     0        2        7       28   \n",
       "43          10  Fighter 11   2.750  20   98     2        3        8        8   \n",
       "23          23       CR 21  21.000  19  405     0        5       11       29   \n",
       "22          22       CR 20  20.000  19  360     0        4       10       31   \n",
       "21          21       CR 19  19.000  19  345     0        4       10       30   \n",
       "20          20       CR 18  18.000  19  330     0        4       10       29   \n",
       "9            9        CR 7   7.000  15  165     0        2        6       23   \n",
       "42           9  Fighter 10   2.500  19   89     2        2        8        8   \n",
       "8            8        CR 6   6.000  15  150     0        2        6       20   \n",
       "41           8   Fighter 9   2.250  19   80     2        2        8        8   \n",
       "40           7   Fighter 8   2.000  19   71     2        2        7        8   \n",
       "7            7        CR 5   5.000  15  135     0        1        6       35   \n",
       "6            6        CR 4   4.000  14  120     0        1        5       30   \n",
       "39           6   Fighter 7   1.750  19   62     2        2        7        8   \n",
       "38           5   Fighter 6   1.500  19   53     2        2        7        8   \n",
       "5            5        CR 3   3.000  13  105     0        1        4       25   \n",
       "37           4   Fighter 5   1.250  18   44     2        2        6        7   \n",
       "4            4        CR 2   2.000  13   90     0        1        3       15   \n",
       "36           3   Fighter 4   1.000  18   36     2        1        5        7   \n",
       "3            3        CR 1   1.000  13   75     0        1        3       12   \n",
       "35           2   Fighter 3   0.750  18   28     2        1        5        7   \n",
       "2            2      CR 1/2   0.500  13   50     0        1        3        8   \n",
       "1            1      CR 1/4   0.250  13   40     0        1        3        5   \n",
       "34           1   Fighter 2   0.500  18   20     2        1        5        7   \n",
       "33           0   Fighter 1   0.250  18   12     2        1        5        7   \n",
       "0            0      CR 1/8   0.125  13   10     0        1        3        2   \n",
       "\n",
       "    pair_wins  total_wins  dam_max  percent_wins  percent_dam_max  \n",
       "52       70.0      7024.0       36      1.346154         0.118033  \n",
       "19       70.0      7024.0      104      1.346154         0.340984  \n",
       "51       66.0      6550.0       27      1.269231         0.088525  \n",
       "49       66.0      6574.0       36      1.269231         0.118033  \n",
       "18       66.0      6550.0      100      1.269231         0.327869  \n",
       "16       66.0      6574.0       90      1.269231         0.295082  \n",
       "50       63.0      6374.0       27      1.211538         0.088525  \n",
       "17       63.0      6374.0       96      1.211538         0.314754  \n",
       "48       60.0      6041.0       27      1.153846         0.088525  \n",
       "15       60.0      6041.0       84      1.153846         0.275410  \n",
       "14       58.0      5665.0       75      1.115385         0.245902  \n",
       "47       58.0      5665.0       27      1.115385         0.088525  \n",
       "46       55.0      5488.0       27      1.057692         0.088525  \n",
       "13       55.0      5488.0       69      1.057692         0.226230  \n",
       "12       52.0      5170.0       66      1.000000         0.216393  \n",
       "32       52.0      5162.0      305      1.000000         1.000000  \n",
       "45       52.0      5170.0       24      1.000000         0.078689  \n",
       "31       51.0      5073.0      285      0.980769         0.934426  \n",
       "30       50.0      5003.0      270      0.961538         0.885246  \n",
       "29       49.0      4915.0      250      0.942308         0.819672  \n",
       "11       48.0      4804.0       60      0.923077         0.196721  \n",
       "44       48.0      4804.0       24      0.923077         0.078689  \n",
       "28       48.0      4792.0      235      0.923077         0.770492  \n",
       "27       47.0      4704.0      215      0.903846         0.704918  \n",
       "26       46.0      4619.0      195      0.884615         0.639344  \n",
       "25       45.0      4498.0      180      0.865385         0.590164  \n",
       "24       44.0      4403.0      160      0.846154         0.524590  \n",
       "10       44.0      4559.0       56      0.846154         0.183607  \n",
       "43       44.0      4559.0       24      0.846154         0.078689  \n",
       "23       43.0      4300.0      145      0.826923         0.475410  \n",
       "22       42.0      4112.0      124      0.807692         0.406557  \n",
       "21       41.0      4097.0      120      0.788462         0.393443  \n",
       "20       40.0      4045.0      116      0.769231         0.380328  \n",
       "9        38.0      3721.0       46      0.730769         0.150820  \n",
       "42       38.0      3721.0       16      0.730769         0.052459  \n",
       "8        35.0      3408.0       40      0.673077         0.131148  \n",
       "41       35.0      3408.0       16      0.673077         0.052459  \n",
       "40       30.0      3078.0       16      0.576923         0.052459  \n",
       "7        30.0      3078.0       35      0.576923         0.114754  \n",
       "6        27.0      2733.0       30      0.519231         0.098361  \n",
       "39       27.0      2733.0       16      0.519231         0.052459  \n",
       "38       23.0      2335.0       16      0.442308         0.052459  \n",
       "5        23.0      2335.0       25      0.442308         0.081967  \n",
       "37       17.0      1718.0       14      0.326923         0.045902  \n",
       "4        17.0      1718.0       15      0.326923         0.049180  \n",
       "36       13.0      1251.0        7      0.250000         0.022951  \n",
       "3        13.0      1251.0       12      0.250000         0.039344  \n",
       "35        9.0       872.0        7      0.173077         0.022951  \n",
       "2         9.0       872.0        8      0.173077         0.026230  \n",
       "1         4.0       500.0        5      0.076923         0.016393  \n",
       "34        4.0       500.0        7      0.076923         0.022951  \n",
       "33        2.0       212.0        7      0.038462         0.022951  \n",
       "0         2.0       212.0        2      0.038462         0.006557  "
      ]
     },
     "execution_count": 156,
     "metadata": {},
     "output_type": "execute_result"
    }
   ],
   "source": [
    "mixed.sort_values(['percent_wins'],ascending=False)"
   ]
  },
  {
   "cell_type": "code",
   "execution_count": null,
   "metadata": {},
   "outputs": [],
   "source": []
  }
 ],
 "metadata": {
  "kernelspec": {
   "display_name": "Python 3",
   "language": "python",
   "name": "python3"
  },
  "language_info": {
   "codemirror_mode": {
    "name": "ipython",
    "version": 3
   },
   "file_extension": ".py",
   "mimetype": "text/x-python",
   "name": "python",
   "nbconvert_exporter": "python",
   "pygments_lexer": "ipython3",
   "version": "3.6.4"
  }
 },
 "nbformat": 4,
 "nbformat_minor": 2
}
