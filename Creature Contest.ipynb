{
 "cells": [
  {
   "cell_type": "markdown",
   "metadata": {},
   "source": [
    "# Libraries"
   ]
  },
  {
   "cell_type": "code",
   "execution_count": 7,
   "metadata": {},
   "outputs": [],
   "source": [
    "import sys\n",
    "#!{sys.executable} -m pip install pandas\n",
    "#!{sys.executable} -m pip install seaborn\n",
    "import numpy as np\n",
    "import pandas\n",
    "import seaborn as sns\n",
    "import warnings\n",
    "from ipywidgets import FloatProgress\n",
    "from IPython.display import display, Markdown, Latex"
   ]
  },
  {
   "cell_type": "markdown",
   "metadata": {},
   "source": [
    "## Debugging Flags"
   ]
  },
  {
   "cell_type": "code",
   "execution_count": 8,
   "metadata": {},
   "outputs": [],
   "source": [
    "debug_rounds = False\n",
    "debug_matches = False"
   ]
  },
  {
   "cell_type": "markdown",
   "metadata": {},
   "source": [
    "## Functions"
   ]
  },
  {
   "cell_type": "code",
   "execution_count": 9,
   "metadata": {},
   "outputs": [],
   "source": [
    "def d20():\n",
    "    return np.random.randint(1,21)\n",
    "\n",
    "def do_match_and_update(a,b,rounds,df):\n",
    "    wins = do_match(a,b,rounds)\n",
    "    a_wins = wins[0]\n",
    "    b_wins = wins[1]\n",
    "    a_id = a[0]\n",
    "    b_id = b[0]\n",
    "    df.at[a_id,'round_wins'] = df.at[a_id,'round_wins'] + a_wins\n",
    "    df.at[b_id,'round_wins'] = df.at[b_id,'round_wins'] + b_wins\n",
    "    if a_wins > b_wins:\n",
    "        df.at[a_id,'match_wins'] = df.at[a_id,'match_wins'] + 1\n",
    "    else:\n",
    "        df.at[b_id,'match_wins'] = df.at[b_id,'match_wins'] + 1\n",
    "    return df\n",
    "\n",
    "def calc_match_and_update(a,b,df):\n",
    "    wins = calc_match(a,b)\n",
    "    a_wins = wins[0]\n",
    "    b_wins = wins[1]\n",
    "    a_id = a[0]\n",
    "    b_id = b[0]\n",
    "    if a_wins > b_wins:\n",
    "        df.at[a_id,'calc_wins'] = df.at[a_id,'calc_wins'] + 1\n",
    "    else:\n",
    "        df.at[b_id,'calc_wins'] = df.at[b_id,'calc_wins'] + 1\n",
    "    return df\n",
    "\n",
    "def do_match(a,b,rounds):\n",
    "    a_wins = 0\n",
    "    b_wins = 0\n",
    "    for _ in np.arange(rounds):\n",
    "        wins = do_round(a,b)\n",
    "        a_wins = a_wins + wins[0]\n",
    "        b_wins = b_wins + wins[1]\n",
    "    if debug_matches:\n",
    "        print (\"After %d rounds %s won %d times and %s won %d times\" % (rounds,a.name,a_wins,b.name,b_wins))\n",
    "    return [a_wins,b_wins]\n",
    "\n",
    "def calc_match(a,b):\n",
    "    a_prob_hit_turn = (20 - b.ac) * 0.05\n",
    "    if (a_prob_hit_turn > .95):\n",
    "        a_prob_hit_turn = .95\n",
    "    if (a_prob_hit_turn < 0.05):\n",
    "        a_prob_hit_turn = 0.05\n",
    "    a_avg_dam_max = a.dam_avg * a.att_num\n",
    "    a_avg_dam_per_turn = a_prob_hit_turn * a_avg_dam_max\n",
    "    a_turns_towin = np.ceil(b.hp / a_avg_dam_per_turn)\n",
    "    b_prob_hit_turn = (20 - a.ac) * 0.05\n",
    "    if (b_prob_hit_turn > .95):\n",
    "        b_prob_hit_turn = .95\n",
    "    if (b_prob_hit_turn < 0.05):\n",
    "        b_prob_hit_turn = 0.05\n",
    "    b_avg_dam_max = b.dam_avg * b.att_num\n",
    "    b_avg_dam_per_turn = b_prob_hit_turn * b.dam_avg\n",
    "    b_turns_towin = np.ceil(a.hp / b_avg_dam_per_turn)\n",
    "    if a_turns_towin == b_turns_towin:\n",
    "        if a.init >= b.init:\n",
    "            return [1,0]\n",
    "        else:\n",
    "            return [0,1]\n",
    "    else:\n",
    "        if a_turns_towin < b_turns_towin:\n",
    "            return [1,0]\n",
    "        else:\n",
    "            return [0,1]\n",
    "    \"\"\"Something went wrong here, nobody wins\"\"\"\n",
    "    return [0,0]\n",
    "\n",
    "def do_round( a, b ):\n",
    "    a_init = d20() + a.init\n",
    "    if debug_rounds:\n",
    "        print(\"%s rolled %d init\" % (a.name,a_init))\n",
    "    b_init = d20() + b.init\n",
    "    if debug_rounds:\n",
    "        print(\"%s rolled %d init\" % (b.name,b_init))\n",
    "    if (a_init >= b_init):\n",
    "        first = a.copy()\n",
    "        second = b.copy()\n",
    "        in_order = True\n",
    "    else:\n",
    "        first = b.copy()\n",
    "        second = a.copy()\n",
    "        in_order = False\n",
    "    round = 0\n",
    "    while (first.hp > 0 and second.hp > 0):\n",
    "        if debug_rounds:\n",
    "            print(\"    Round %d: %s hp is %d and %s hp is %d\" % (round+1, first.name,first.hp,second.name,second.hp))\n",
    "        round = round + 1\n",
    "        first,second = do_attack(first,second)\n",
    "        if (second.hp <= 0):\n",
    "            if debug_rounds:\n",
    "                print(\"%s is dead\" % second.name)\n",
    "            if in_order:\n",
    "                return [1,0] #a went first and won\n",
    "            else:\n",
    "                return [0,1] #b went first and won\n",
    "        else:\n",
    "            second,first = do_attack(second,first)\n",
    "            if (first.hp <= 0):\n",
    "                if debug_rounds:\n",
    "                    print(\"%s is dead\" % first.name)\n",
    "                if in_order:\n",
    "                    return [0,1] #b went second and won\n",
    "                else:\n",
    "                    return [1,0] #a went second and won\n",
    "    \"\"\"Something went wrong here, nobody wins\"\"\"\n",
    "    return [0,0]\n",
    "    \n",
    "def do_attack( attacker, target ):\n",
    "    if debug_rounds:\n",
    "        print (\"        %s makes %d attacks against %s\" % (attacker.name, attacker.att_num, target.name))\n",
    "    for _ in np.arange(attacker.att_num):\n",
    "        attack = d20() + attacker.hit_mod\n",
    "        if (attack != 1 and (attack == 20 or attack >= target.ac)):\n",
    "            target.hp = target.hp - attacker.dam_avg\n",
    "            if debug_rounds:\n",
    "                print(\"            %s hits %s for %d damage\" % (attacker.name, target.name, attacker.dam_avg ))\n",
    "        else:\n",
    "            if debug_rounds:\n",
    "                print(\"            %s misses %s\" % (attacker.name, target.name))\n",
    "    return [attacker, target]\n",
    "\n",
    "def run_matches(creatures,rounds,name=\"creatures\"):\n",
    "    rows = creatures.shape[0]\n",
    "    creatures['match_wins'] = np.zeros(rows)\n",
    "    creatures['round_wins'] = np.zeros(rows)\n",
    "    creatures['calc_wins'] = np.zeros(rows)\n",
    "\n",
    "    matches = ((rows-1)**2 + rows - 1)/2 #nth triangular number for n-1\n",
    "\n",
    "    f = FloatProgress(min=0, max=matches, description=\"Contest: \")\n",
    "    display(f)\n",
    "\n",
    "    print(\"Performing %d matches of %d rounds each\" % (matches,rounds))\n",
    "    for i in np.arange(rows):\n",
    "        a = creatures.take([i]).to_records()[0]\n",
    "        for j in np.arange(i+1,rows):\n",
    "            b = creatures.take([j]).to_records()[0]\n",
    "            creatures = do_match_and_update(a,b,rounds,creatures)\n",
    "            creatures = calc_match_and_update(a,b,creatures)\n",
    "            f.value = f.value + 1\n",
    "    \n",
    "    filename = \"data/gen/%s_%02d.csv\" % (name,rounds)\n",
    "    creatures.to_csv(filename)\n",
    "\n",
    "def creature_from_party(df):\n",
    "    \"\"\"name,cr,ac,hp,init,att_num,hit_mod,dam_avg\"\"\"\n",
    "    rows = df.shape[0]\n",
    "    df2 = pandas.DataFrame()\n",
    "    df2['name'] =  [ \"Party of %d\" % rows ]\n",
    "    df2['cr'] = [ np.floor(df['cr'].sum()) ]\n",
    "    df2['ac'] = [ np.floor(df['ac'].mean()) ]\n",
    "    df2['hp'] = [ np.floor(df['hp'].sum()) ]\n",
    "    df2['init'] = [ round(df['init'].mean(),2) ]\n",
    "    df2['att_num'] = [ np.floor(df['att_num'].sum()) ]\n",
    "    df2['hit_mod'] = [ np.floor(df['hit_mod'].mean()) ]\n",
    "    df2['dam_avg'] = [ np.floor(df['dam_avg'].mean()) ]\n",
    "    return df2\n",
    "    \n",
    "def gen_init(amount):\n",
    "    \"\"\"Generate initiative modifiers in range -5,5 with normal distribution\"\"\"\n",
    "    s = np.round(np.random.normal(0, 1.66, amount),2)\n",
    "    p = pandas.DataFrame(data=s)\n",
    "    p = p[p[0].between(-5, 5, inclusive=True)]\n",
    "    return p\n",
    "\n",
    "def gen_ac(amount):\n",
    "    return np.random.randint(13,20,amount)\n",
    "\n",
    "def gen_hp(amount):\n",
    "    return np.random.randint(10,810,amount)\n",
    "\n",
    "def gen_att_num(amount):\n",
    "    return np.random.randint(1,6,amount)\n",
    "\n",
    "def gen_hit_mod(amount):\n",
    "    return np.random.randint(3,15,amount)\n",
    "\n",
    "def gen_dam_avg(amount):\n",
    "    return np.random.randint(2,62,amount)\n",
    "\n",
    "def create_randoms(size):\n",
    "    \"\"\"name,cr,ac,hp,init,att_num,hit_mod,dam_avg\"\"\"\n",
    "    randoms = pandas.DataFrame()\n",
    "    randoms['name'] = np.repeat([''],size)\n",
    "    randoms['cr'] = np.zeros(size)\n",
    "    randoms['ac'] = gen_ac(size)\n",
    "    randoms['hp'] = gen_hp(size)\n",
    "    randoms['init'] = gen_init(size)\n",
    "    randoms['att_num'] = gen_att_num(size)\n",
    "    randoms['hit_mod'] = gen_hit_mod(size)\n",
    "    randoms['dam_avg'] = gen_dam_avg(size)\n",
    "    return randoms\n",
    "\n",
    "def create_cr_averages(creatures):\n",
    "    creatures_avg = creatures.groupby('cr').mean().apply(np.round).astype(int).reset_index()\n",
    "    creatures_avg['name'] = creatures_avg['cr']\n",
    "    return creatures_avg\n",
    "\n",
    "def plot_correl(file,col,logx=False,order=1,subtitle=''):\n",
    "    df = pandas.read_csv(file)\n",
    "    return plot_correl_df(df,col,logx=logx,order=order,subtitle=subtitle)\n",
    "\n",
    "def plot_correl_df(df,col,logx=False,order=1,subtitle=''):\n",
    "    rows = df.shape[0]\n",
    "    df['percent_wins'] = df['match_wins'] / (rows-1)\n",
    "    max_col = df.loc[df[col].idxmax()][col]\n",
    "    df['percent_' + col] = df[col] / max_col\n",
    "    df = df.sort_values(['percent_wins'],ascending=False)\n",
    "    warnings.filterwarnings('ignore')\n",
    "    r = np.corrcoef(df['percent_'+col],df['percent_wins'])[0][1]\n",
    "    if len(subtitle) > 0:\n",
    "        display(Markdown('### Correlation between %s and wins: %s' % (col,subtitle)))\n",
    "    else:\n",
    "        display(Markdown('### Correlation between %s and wins' % col))\n",
    "    if 'type' in df.columns:\n",
    "        plt = sns.lmplot( x='percent_'+col, y='percent_wins', data=df, fit_reg=False, hue='type', legend=True)\n",
    "    else:\n",
    "        if np.absolute(r) < 0.3:\n",
    "            df.plot.scatter('percent_' + col,'percent_wins')\n",
    "        else:\n",
    "            sns.regplot(df['percent_'+col],df['percent_wins'],logx=logx,order=order)\n",
    "    display(Markdown(\"r=%2f\" % r))"
   ]
  },
  {
   "cell_type": "markdown",
   "metadata": {},
   "source": [
    "## Correlation Between Combat Success and Attributes\n",
    "In this experiment, we randomly generate a matrix of creature attributes and run a contest to determine the success rate of each combination. Examining the correaltion between each randomly-generated attribute and resulting success rate gives us an indication of its influence over combat success in context with the other attributes involved in the fundamental mechanic of melee combat."
   ]
  },
  {
   "cell_type": "code",
   "execution_count": 10,
   "metadata": {
    "scrolled": false
   },
   "outputs": [
    {
     "data": {
      "application/vnd.jupyter.widget-view+json": {
       "model_id": "1f93b34d64b1438a99fcddd8cfcf2da7",
       "version_major": 2,
       "version_minor": 0
      },
      "text/plain": [
       "FloatProgress(value=0.0, description='Contest: ', max=528.0)"
      ]
     },
     "metadata": {},
     "output_type": "display_data"
    },
    {
     "name": "stdout",
     "output_type": "stream",
     "text": [
      "Performing 528 matches of 100 rounds each\n"
     ]
    }
   ],
   "source": [
    "randoms = create_randoms(33)\n",
    "run_matches(randoms,100,'randoms')"
   ]
  },
  {
   "cell_type": "code",
   "execution_count": 11,
   "metadata": {
    "scrolled": true
   },
   "outputs": [
    {
     "data": {
      "text/markdown": [
       "### Correlation between ac and wins: randomly-generated creatures"
      ],
      "text/plain": [
       "<IPython.core.display.Markdown object>"
      ]
     },
     "metadata": {},
     "output_type": "display_data"
    },
    {
     "data": {
      "text/markdown": [
       "r=0.064244"
      ],
      "text/plain": [
       "<IPython.core.display.Markdown object>"
      ]
     },
     "metadata": {},
     "output_type": "display_data"
    },
    {
     "data": {
      "image/png": "[encoded data removed]",
      "text/plain": [
       "<Figure size 432x288 with 1 Axes>"
      ]
     },
     "metadata": {},
     "output_type": "display_data"
    }
   ],
   "source": [
    "plot_correl('data/gen/randoms_100.csv','ac',subtitle='randomly-generated creatures')"
   ]
  },
  {
   "cell_type": "code",
   "execution_count": 13,
   "metadata": {
    "scrolled": false
   },
   "outputs": [
    {
     "data": {
      "text/markdown": [
       "### Correlation between init and wins: randomly-generated creatures"
      ],
      "text/plain": [
       "<IPython.core.display.Markdown object>"
      ]
     },
     "metadata": {},
     "output_type": "display_data"
    },
    {
     "data": {
      "text/markdown": [
       "r=0.079424"
      ],
      "text/plain": [
       "<IPython.core.display.Markdown object>"
      ]
     },
     "metadata": {},
     "output_type": "display_data"
    },
    {
     "data": {
      "image/png": "[encoded data removed]",
      "text/plain": [
       "<Figure size 432x288 with 1 Axes>"
      ]
     },
     "metadata": {},
     "output_type": "display_data"
    }
   ],
   "source": [
    "plot_correl('data/gen/randoms_100.csv','init',subtitle='randomly-generated creatures')"
   ]
  },
  {
   "cell_type": "code",
   "execution_count": 12,
   "metadata": {
    "scrolled": false
   },
   "outputs": [
    {
     "data": {
      "text/markdown": [
       "### Correlation between hit_mod and wins: randomly-generated creatures"
      ],
      "text/plain": [
       "<IPython.core.display.Markdown object>"
      ]
     },
     "metadata": {},
     "output_type": "display_data"
    },
    {
     "data": {
      "text/markdown": [
       "r=0.235152"
      ],
      "text/plain": [
       "<IPython.core.display.Markdown object>"
      ]
     },
     "metadata": {},
     "output_type": "display_data"
    },
    {
     "data": {
      "image/png": "[encoded data removed]",
      "text/plain": [
       "<Figure size 432x288 with 1 Axes>"
      ]
     },
     "metadata": {},
     "output_type": "display_data"
    }
   ],
   "source": [
    "plot_correl('data/gen/randoms_100.csv','hit_mod',subtitle='randomly-generated creatures')"
   ]
  },
  {
   "cell_type": "code",
   "execution_count": 14,
   "metadata": {},
   "outputs": [
    {
     "data": {
      "text/markdown": [
       "### Correlation between att_num and wins: randomly-generated creatures"
      ],
      "text/plain": [
       "<IPython.core.display.Markdown object>"
      ]
     },
     "metadata": {},
     "output_type": "display_data"
    },
    {
     "data": {
      "text/markdown": [
       "r=0.452769"
      ],
      "text/plain": [
       "<IPython.core.display.Markdown object>"
      ]
     },
     "metadata": {},
     "output_type": "display_data"
    },
    {
     "data": {
      "image/png": "[encoded data removed]",
      "text/plain": [
       "<Figure size 432x288 with 1 Axes>"
      ]
     },
     "metadata": {},
     "output_type": "display_data"
    }
   ],
   "source": [
    "plot_correl('data/gen/randoms_100.csv','att_num',subtitle='randomly-generated creatures')"
   ]
  },
  {
   "cell_type": "code",
   "execution_count": 15,
   "metadata": {},
   "outputs": [
    {
     "data": {
      "text/markdown": [
       "### Correlation between dam_avg and wins: randomly-generated creatures"
      ],
      "text/plain": [
       "<IPython.core.display.Markdown object>"
      ]
     },
     "metadata": {},
     "output_type": "display_data"
    },
    {
     "data": {
      "text/markdown": [
       "r=0.494313"
      ],
      "text/plain": [
       "<IPython.core.display.Markdown object>"
      ]
     },
     "metadata": {},
     "output_type": "display_data"
    },
    {
     "data": {
      "image/png": "[encoded data removed]",
      "text/plain": [
       "<Figure size 432x288 with 1 Axes>"
      ]
     },
     "metadata": {},
     "output_type": "display_data"
    }
   ],
   "source": [
    "plot_correl('data/gen/randoms_100.csv','dam_avg',subtitle='randomly-generated creatures')"
   ]
  },
  {
   "cell_type": "code",
   "execution_count": 17,
   "metadata": {
    "scrolled": false
   },
   "outputs": [
    {
     "data": {
      "text/markdown": [
       "### Correlation between dam_max and wins: randomly-generated creatures"
      ],
      "text/plain": [
       "<IPython.core.display.Markdown object>"
      ]
     },
     "metadata": {},
     "output_type": "display_data"
    },
    {
     "data": {
      "text/markdown": [
       "r=0.565667"
      ],
      "text/plain": [
       "<IPython.core.display.Markdown object>"
      ]
     },
     "metadata": {},
     "output_type": "display_data"
    },
    {
     "data": {
      "image/png": "[encoded data removed]",
      "text/plain": [
       "<Figure size 432x288 with 1 Axes>"
      ]
     },
     "metadata": {},
     "output_type": "display_data"
    }
   ],
   "source": [
    "randoms = pandas.read_csv('data/gen/randoms_100.csv')\n",
    "randoms['dam_max'] = randoms['dam_avg'] * randoms['att_num']\n",
    "plot_correl_df(randoms,'dam_max',subtitle='randomly-generated creatures')"
   ]
  },
  {
   "cell_type": "code",
   "execution_count": 16,
   "metadata": {
    "scrolled": false
   },
   "outputs": [
    {
     "data": {
      "text/markdown": [
       "### Correlation between hp and wins: randomly-generated creatures"
      ],
      "text/plain": [
       "<IPython.core.display.Markdown object>"
      ]
     },
     "metadata": {},
     "output_type": "display_data"
    },
    {
     "data": {
      "text/markdown": [
       "r=0.586756"
      ],
      "text/plain": [
       "<IPython.core.display.Markdown object>"
      ]
     },
     "metadata": {},
     "output_type": "display_data"
    },
    {
     "data": {
      "image/png": "[encoded data removed]",
      "text/plain": [
       "<Figure size 432x288 with 1 Axes>"
      ]
     },
     "metadata": {},
     "output_type": "display_data"
    }
   ],
   "source": [
    "plot_correl('data/gen/randoms_100.csv','hp',subtitle='randomly-generated creatures')"
   ]
  },
  {
   "cell_type": "markdown",
   "metadata": {},
   "source": [
    "## Generic Characters and Creatures\n",
    "In this experiment, we generate characters and creatures by level or challenge rating (respectively) using published guidelines, and run contests for each type of individual creature or party to ensure a strong correlation between challenge rating and combat success rate and even distribution/progression for that type."
   ]
  },
  {
   "cell_type": "markdown",
   "metadata": {},
   "source": [
    "### Generic Creatures\n",
    "These creatures were generated using an interpretation of the guidelines on p. 274 of Dungeon Master's Guide (Wizards of the Coast, December 2014) in attempt to simulate a \"typical\" creature of each challenge rating from 0.125 - 30."
   ]
  },
  {
   "cell_type": "code",
   "execution_count": 18,
   "metadata": {},
   "outputs": [
    {
     "data": {
      "application/vnd.jupyter.widget-view+json": {
       "model_id": "a63ed880bbdf4572bae3a76f5fa83038",
       "version_major": 2,
       "version_minor": 0
      },
      "text/plain": [
       "FloatProgress(value=0.0, description='Contest: ', max=528.0)"
      ]
     },
     "metadata": {},
     "output_type": "display_data"
    },
    {
     "name": "stdout",
     "output_type": "stream",
     "text": [
      "Performing 528 matches of 100 rounds each\n"
     ]
    }
   ],
   "source": [
    "generics = pandas.read_csv('data/src/generics.csv')\n",
    "run_matches(generics,100,'generics')"
   ]
  },
  {
   "cell_type": "code",
   "execution_count": 19,
   "metadata": {},
   "outputs": [
    {
     "data": {
      "text/markdown": [
       "### Correlation between cr and wins: single monster"
      ],
      "text/plain": [
       "<IPython.core.display.Markdown object>"
      ]
     },
     "metadata": {},
     "output_type": "display_data"
    },
    {
     "data": {
      "text/markdown": [
       "r=0.999187"
      ],
      "text/plain": [
       "<IPython.core.display.Markdown object>"
      ]
     },
     "metadata": {},
     "output_type": "display_data"
    },
    {
     "data": {
      "image/png": "[encoded data removed]",
      "text/plain": [
       "<Figure size 432x288 with 1 Axes>"
      ]
     },
     "metadata": {},
     "output_type": "display_data"
    }
   ],
   "source": [
    "plot_correl('data/gen/generics_100.csv','cr',subtitle='single monster')"
   ]
  },
  {
   "cell_type": "markdown",
   "metadata": {},
   "source": [
    "### Generic Party of Four Fighters\n",
    "The level of a party of four characters is meant to correspond to the challenge rating of a comparable single creature, or the sum of challenge ratings of a group of creatures. The human fighter is [overwhelmingly the most popular character type](https://fivethirtyeight.com/features/is-your-dd-character-rare/), and arguably one of the most effective in melee combat. Here we assemble a party of four generic human fighters using an interpretation of the guidelines on pp. 70-75 of the Player's Handbook (Wizards of the Coast, August 2014). We exclude all but the most basic elements of character progress in relation to `hp`, `ac`, `att_num`, and `dam_avg`, assuming some upgrade in armour and ability score improvements as described."
   ]
  },
  {
   "cell_type": "code",
   "execution_count": null,
   "metadata": {},
   "outputs": [],
   "source": [
    "fighters = pandas.read_csv('data/src/fighters.csv')\n",
    "run_matches(fighters,100,'fighters')"
   ]
  },
  {
   "cell_type": "code",
   "execution_count": 22,
   "metadata": {
    "scrolled": true
   },
   "outputs": [
    {
     "data": {
      "text/markdown": [
       "### Correlation between cr and wins: party of 4 fighters"
      ],
      "text/plain": [
       "<IPython.core.display.Markdown object>"
      ]
     },
     "metadata": {},
     "output_type": "display_data"
    },
    {
     "data": {
      "text/markdown": [
       "r=0.999187"
      ],
      "text/plain": [
       "<IPython.core.display.Markdown object>"
      ]
     },
     "metadata": {},
     "output_type": "display_data"
    },
    {
     "data": {
      "image/png": "[encoded data removed]",
      "text/plain": [
       "<Figure size 432x288 with 1 Axes>"
      ]
     },
     "metadata": {},
     "output_type": "display_data"
    }
   ],
   "source": [
    "plot_correl('data/gen/fighters_100.csv','cr',subtitle='party of 4 fighters')"
   ]
  },
  {
   "cell_type": "markdown",
   "metadata": {},
   "source": [
    "### Many Weaker Monsters\n",
    "Since there is some positive correlation between number of attacks and combat effectiveness, here we assemble a group of between 1 and 30 monsters with a challenge rating of 1. This provides a linear increase in number of attacks far beyond that of a single typical CR 30 monster."
   ]
  },
  {
   "cell_type": "code",
   "execution_count": 29,
   "metadata": {},
   "outputs": [
    {
     "data": {
      "application/vnd.jupyter.widget-view+json": {
       "model_id": "db132698533e4c1ab233d65ea7b848b4",
       "version_major": 2,
       "version_minor": 0
      },
      "text/plain": [
       "FloatProgress(value=0.0, description='Contest: ', max=435.0)"
      ]
     },
     "metadata": {},
     "output_type": "display_data"
    },
    {
     "name": "stdout",
     "output_type": "stream",
     "text": [
      "Performing 435 matches of 100 rounds each\n"
     ]
    }
   ],
   "source": [
    "generics_to30 = pandas.read_csv('data/src/generics_to30.csv')\n",
    "run_matches(generics_to30,100,'generics_to30')"
   ]
  },
  {
   "cell_type": "code",
   "execution_count": 30,
   "metadata": {},
   "outputs": [
    {
     "data": {
      "text/markdown": [
       "### Correlation between cr and wins: 1-30 CR 1 monster(s)"
      ],
      "text/plain": [
       "<IPython.core.display.Markdown object>"
      ]
     },
     "metadata": {},
     "output_type": "display_data"
    },
    {
     "data": {
      "text/markdown": [
       "r=1.000000"
      ],
      "text/plain": [
       "<IPython.core.display.Markdown object>"
      ]
     },
     "metadata": {},
     "output_type": "display_data"
    },
    {
     "data": {
      "image/png": "[encoded data removed]",
      "text/plain": [
       "<Figure size 432x288 with 1 Axes>"
      ]
     },
     "metadata": {},
     "output_type": "display_data"
    }
   ],
   "source": [
    "plot_correl('data/gen/generics_to30_100.csv','cr',subtitle='1-30 CR 1 monster(s)')"
   ]
  },
  {
   "cell_type": "markdown",
   "metadata": {},
   "source": [
    "## Contests Between Characters and Creatures\n",
    "### Party of Fighters versus Single Monster\n",
    "Next, we run a contest between our party of four fighters and our single monsters"
   ]
  },
  {
   "cell_type": "code",
   "execution_count": 23,
   "metadata": {},
   "outputs": [
    {
     "data": {
      "application/vnd.jupyter.widget-view+json": {
       "model_id": "074da20632bd4b0fa0ddfe6b1619eef3",
       "version_major": 2,
       "version_minor": 0
      },
      "text/plain": [
       "FloatProgress(value=0.0, description='Contest: ', max=1378.0)"
      ]
     },
     "metadata": {},
     "output_type": "display_data"
    },
    {
     "name": "stdout",
     "output_type": "stream",
     "text": [
      "Performing 1378 matches of 100 rounds each\n"
     ]
    }
   ],
   "source": [
    "fighters = pandas.read_csv('data/src/fighters.csv')\n",
    "fighters['type'] = 'party of 4 fighters'\n",
    "generics = pandas.read_csv('data/src/generics.csv')\n",
    "generics['type'] = 'single monster'\n",
    "mixed = generics.append(fighters)\n",
    "mixed = mixed.reset_index(drop=True)\n",
    "run_matches(mixed,100,'fighters_monster')"
   ]
  },
  {
   "cell_type": "code",
   "execution_count": 28,
   "metadata": {},
   "outputs": [
    {
     "data": {
      "text/markdown": [
       "### Correlation between cr and wins: party of 4 fighters and single generic monsters"
      ],
      "text/plain": [
       "<IPython.core.display.Markdown object>"
      ]
     },
     "metadata": {},
     "output_type": "display_data"
    },
    {
     "data": {
      "text/markdown": [
       "r=0.963522"
      ],
      "text/plain": [
       "<IPython.core.display.Markdown object>"
      ]
     },
     "metadata": {},
     "output_type": "display_data"
    },
    {
     "data": {
      "image/png": "[encoded data removed]",
      "text/plain": [
       "<Figure size 486.125x360 with 1 Axes>"
      ]
     },
     "metadata": {},
     "output_type": "display_data"
    }
   ],
   "source": [
    "plot_correl('data/gen/fighters_monster_100.csv','cr',logx=True,subtitle='party of 4 fighters and single generic monsters')"
   ]
  },
  {
   "cell_type": "markdown",
   "metadata": {},
   "source": [
    "### Party of Fighters versus Many Weaker Monsters\n",
    "We then run a contest between our party of four fighers and 1-30 CR 1 monsters"
   ]
  },
  {
   "cell_type": "code",
   "execution_count": 25,
   "metadata": {
    "scrolled": true
   },
   "outputs": [
    {
     "data": {
      "application/vnd.jupyter.widget-view+json": {
       "model_id": "8e1f3db722c3486d8c5c48b8bd93a3cc",
       "version_major": 2,
       "version_minor": 0
      },
      "text/plain": [
       "FloatProgress(value=0.0, description='Contest: ', max=1225.0)"
      ]
     },
     "metadata": {},
     "output_type": "display_data"
    },
    {
     "name": "stdout",
     "output_type": "stream",
     "text": [
      "Performing 1225 matches of 100 rounds each\n"
     ]
    }
   ],
   "source": [
    "fighters = pandas.read_csv('data/src/fighters.csv')\n",
    "fighters['type'] = 'party of 4 fighters'\n",
    "generics_to30 = pandas.read_csv('data/src/generics_to30.csv')\n",
    "generics_to30['type'] = '1-30 CR 1 monster(s)'\n",
    "mixed_to30 = generics_to30.append(fighters)\n",
    "mixed_to30 = mixed_to30.reset_index(drop=True)\n",
    "run_matches(mixed_to30,100,'fighters_to30monsters')"
   ]
  },
  {
   "cell_type": "code",
   "execution_count": 26,
   "metadata": {
    "scrolled": false
   },
   "outputs": [
    {
     "data": {
      "text/markdown": [
       "### Correlation between cr and wins: party of 4 fighers and 1-30 CR 1 monsters"
      ],
      "text/plain": [
       "<IPython.core.display.Markdown object>"
      ]
     },
     "metadata": {},
     "output_type": "display_data"
    },
    {
     "data": {
      "text/markdown": [
       "r=0.990990"
      ],
      "text/plain": [
       "<IPython.core.display.Markdown object>"
      ]
     },
     "metadata": {},
     "output_type": "display_data"
    },
    {
     "data": {
      "image/png": "[encoded data removed]",
      "text/plain": [
       "<Figure size 502.375x360 with 1 Axes>"
      ]
     },
     "metadata": {},
     "output_type": "display_data"
    }
   ],
   "source": [
    "mixed_to30 = pandas.read_csv('data/gen/fighters_to30monsters_100.csv')\n",
    "plot_correl_df(mixed_to30,'cr',logx=True,subtitle='party of 4 fighers and 1-30 CR 1 monsters')"
   ]
  },
  {
   "cell_type": "code",
   "execution_count": null,
   "metadata": {},
   "outputs": [],
   "source": []
  }
 ],
 "metadata": {
  "kernelspec": {
   "display_name": "Python 3",
   "language": "python",
   "name": "python3"
  },
  "language_info": {
   "codemirror_mode": {
    "name": "ipython",
    "version": 3
   },
   "file_extension": ".py",
   "mimetype": "text/x-python",
   "name": "python",
   "nbconvert_exporter": "python",
   "pygments_lexer": "ipython3",
   "version": "3.5.1"
  }
 },
 "nbformat": 4,
 "nbformat_minor": 2
}
